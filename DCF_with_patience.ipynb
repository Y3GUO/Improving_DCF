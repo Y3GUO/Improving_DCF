{
  "cells": [
    {
      "cell_type": "markdown",
      "metadata": {
        "id": "view-in-github"
      },
      "source": [
        "<a href=\"https://colab.research.google.com/github/Mai-CS/Enhanced-Deep-Convolutional-Forest/blob/main/enhannced_dcf.ipynb\" target=\"_parent\"><img src=\"https://colab.research.google.com/assets/colab-badge.svg\" alt=\"Open In Colab\"/></a>"
      ]
    },
    {
      "cell_type": "markdown",
      "metadata": {
        "id": "0nycuFIHjbsN"
      },
      "source": [
        "# ***Imports***"
      ]
    },
    {
      "cell_type": "code",
      "execution_count": null,
      "metadata": {
        "colab": {
          "base_uri": "https://localhost:8080/"
        },
        "id": "1MwNY-fmgoG1",
        "outputId": "f9ed1c62-1951-44cf-cc0e-09faea3f32f8"
      },
      "outputs": [
        {
          "output_type": "stream",
          "name": "stdout",
          "text": [
            "Mounted at /content/drive\n"
          ]
        }
      ],
      "source": [
        "from google.colab import drive\n",
        "drive.mount('/content/drive')\n",
        "\n",
        "import time\n",
        "\n",
        "import numpy as np\n",
        "import pandas as pd\n",
        "import seaborn as sns\n",
        "import matplotlib.pyplot as plt\n",
        "%matplotlib inline\n",
        "\n",
        "import tensorflow as tf\n",
        "from tensorflow.keras import Model\n",
        "from tensorflow.keras.preprocessing.text import Tokenizer\n",
        "from tensorflow.keras.preprocessing.text import text_to_word_sequence\n",
        "from tensorflow.keras.preprocessing.sequence import pad_sequences\n",
        "from tensorflow.keras.models import Sequential\n",
        "from tensorflow.keras.layers import Embedding, Conv1D, LSTM, GlobalMaxPooling1D, Dense\n",
        "\n",
        "from sklearn.model_selection import train_test_split\n",
        "from sklearn.utils import class_weight\n",
        "from sklearn.preprocessing import StandardScaler\n",
        "from sklearn.ensemble import RandomForestClassifier, ExtraTreesClassifier\n",
        "from sklearn.svm import SVC\n",
        "from sklearn.naive_bayes import GaussianNB\n",
        "from sklearn.neighbors import KNeighborsClassifier\n",
        "from sklearn import metrics\n",
        "\n",
        "from sklearn.feature_extraction.text import TfidfVectorizer\n",
        "from imblearn.over_sampling import SMOTE\n",
        "from collections import Counter"
      ]
    },
    {
      "cell_type": "markdown",
      "metadata": {
        "id": "WOcDr84WjrTJ"
      },
      "source": [
        "# ***Utils***"
      ]
    },
    {
      "cell_type": "markdown",
      "metadata": {
        "id": "UKtyF4YY0oRs"
      },
      "source": [
        "## Dataset loading"
      ]
    },
    {
      "cell_type": "code",
      "execution_count": null,
      "metadata": {
        "id": "m9l0ACDA0j0b"
      },
      "outputs": [],
      "source": [
        "def load_data(file_name):\n",
        "    df = pd.read_csv(file_name, encoding=\"ISO-8859-1\"\n",
        "    )\n",
        "    df = df.dropna(subset=[\"ProcessedMessage\"], axis=0)\n",
        "    #   df = df.drop_duplicates(subset=['ProcessedMessage'])\n",
        "    df.info()\n",
        "\n",
        "    return df.reset_index(drop=True)"
      ]
    },
    {
      "cell_type": "markdown",
      "metadata": {
        "id": "hhSlYOAP0uKQ"
      },
      "source": [
        "## Get maximum input length"
      ]
    },
    {
      "cell_type": "code",
      "execution_count": null,
      "metadata": {
        "id": "i-KQfN5A01c0"
      },
      "outputs": [],
      "source": [
        "def get_max_input_length(docs):\n",
        "    max_input_length = 1\n",
        "    for document in docs:\n",
        "        words = text_to_word_sequence(document)\n",
        "        document_length = len(words)\n",
        "        if document_length > max_input_length:\n",
        "            max_input_length = document_length\n",
        "\n",
        "    return max_input_length"
      ]
    },
    {
      "cell_type": "markdown",
      "metadata": {
        "id": "_LxYErsZ05Kz"
      },
      "source": [
        "## Balance data"
      ]
    },
    {
      "cell_type": "code",
      "execution_count": null,
      "metadata": {
        "id": "Zu11UDPA07ZP"
      },
      "outputs": [],
      "source": [
        "def balance_data(X_train, y_train, input_type=\"numerical\"):\n",
        "    \"\"\"Oversampling the dataset using SMOTE\"\"\"\n",
        "\n",
        "    # Summarize class distribution\n",
        "    counter = Counter(y_train)\n",
        "    print(\"Before SMOTE: \", counter)\n",
        "\n",
        "    if input_type == \"text\":\n",
        "        # Calculate TF-IDF\n",
        "        vectorizer = TfidfVectorizer()\n",
        "        X_train = vectorizer.fit_transform(X_train)\n",
        "\n",
        "    # Oversampling\n",
        "    smote_model = SMOTE()\n",
        "    X_train, y_train = smote_model.fit_resample(X_train, y_train)\n",
        "\n",
        "    # Summarize the new class distribution\n",
        "    counter = Counter(y_train)\n",
        "    print(\"After SMOTE: \", counter)\n",
        "\n",
        "    if input_type == \"text\":\n",
        "        X_train = vectorizer.inverse_transform(X_train)\n",
        "        for i in range(0, len(X_train)):\n",
        "            X_train[i] = \" \".join(reversed(X_train[i]))\n",
        "\n",
        "    return X_train, y_train"
      ]
    },
    {
      "cell_type": "markdown",
      "metadata": {
        "id": "mnQqjIIxQl5M"
      },
      "source": [
        "## GloVe"
      ]
    },
    {
      "cell_type": "code",
      "execution_count": null,
      "metadata": {
        "id": "8E9B6yNoTokI",
        "colab": {
          "base_uri": "https://localhost:8080/"
        },
        "outputId": "9054dd93-1d4c-438f-db88-b06d9007f949"
      },
      "outputs": [
        {
          "output_type": "stream",
          "name": "stdout",
          "text": [
            "--2024-11-17 22:39:56--  http://nlp.stanford.edu/data/glove.6B.zip\n",
            "Resolving nlp.stanford.edu (nlp.stanford.edu)... 171.64.67.140\n",
            "Connecting to nlp.stanford.edu (nlp.stanford.edu)|171.64.67.140|:80... connected.\n",
            "HTTP request sent, awaiting response... 302 Found\n",
            "Location: https://nlp.stanford.edu/data/glove.6B.zip [following]\n",
            "--2024-11-17 22:39:56--  https://nlp.stanford.edu/data/glove.6B.zip\n",
            "Connecting to nlp.stanford.edu (nlp.stanford.edu)|171.64.67.140|:443... connected.\n",
            "HTTP request sent, awaiting response... 301 Moved Permanently\n",
            "Location: https://downloads.cs.stanford.edu/nlp/data/glove.6B.zip [following]\n",
            "--2024-11-17 22:39:56--  https://downloads.cs.stanford.edu/nlp/data/glove.6B.zip\n",
            "Resolving downloads.cs.stanford.edu (downloads.cs.stanford.edu)... 171.64.64.22\n",
            "Connecting to downloads.cs.stanford.edu (downloads.cs.stanford.edu)|171.64.64.22|:443... connected.\n",
            "HTTP request sent, awaiting response... 200 OK\n",
            "Length: 862182613 (822M) [application/zip]\n",
            "Saving to: ‘glove.6B.zip’\n",
            "\n",
            "glove.6B.zip        100%[===================>] 822.24M  5.05MB/s    in 2m 39s  \n",
            "\n",
            "2024-11-17 22:42:35 (5.18 MB/s) - ‘glove.6B.zip’ saved [862182613/862182613]\n",
            "\n"
          ]
        }
      ],
      "source": [
        "!wget http://nlp.stanford.edu/data/glove.6B.zip\n",
        "!unzip -q glove.6B.zip"
      ]
    },
    {
      "cell_type": "code",
      "execution_count": null,
      "metadata": {
        "id": "DpO3aHI_Qnx_"
      },
      "outputs": [],
      "source": [
        "def create_embedding_matrix(tokenizer, embedding_dim):\n",
        "    file_name = \"\"\n",
        "    embeddings_index = {}\n",
        "    if embedding_dim == 50:\n",
        "        file_name = \"glove.6B.50d.txt\"\n",
        "    elif embedding_dim == 100:\n",
        "        file_name = \"glove.6B.100d.txt\"\n",
        "\n",
        "    f = open(\"/content/\" + file_name)\n",
        "    for line in f:\n",
        "        values = line.split()\n",
        "        word = values[0]\n",
        "        coefs = np.asarray(values[1:], dtype=\"float32\")\n",
        "        embeddings_index[word] = coefs\n",
        "    f.close()\n",
        "\n",
        "    print(\"Found %s word vectors.\" % len(embeddings_index))\n",
        "\n",
        "    embedding_matrix = np.zeros((len(tokenizer.word_index) + 1, embedding_dim))\n",
        "    for word, i in tokenizer.word_index.items():\n",
        "        embedding_vector = embeddings_index.get(word)\n",
        "        if embedding_vector is not None:\n",
        "            # words not found in embedding index will be all-zeros.\n",
        "            embedding_matrix[i] = embedding_vector\n",
        "\n",
        "    return embedding_matrix"
      ]
    },
    {
      "cell_type": "markdown",
      "metadata": {
        "id": "VmjwpXPDEH5V"
      },
      "source": [
        "## Text encoding/padding"
      ]
    },
    {
      "cell_type": "code",
      "execution_count": null,
      "metadata": {
        "id": "ziNZvRf5EL69"
      },
      "outputs": [],
      "source": [
        "def encode_text(docs_X_train, docs_X_test):\n",
        "    # Prepare tokenizer\n",
        "    tokenizer = Tokenizer()\n",
        "    tokenizer.fit_on_texts(docs_X_train)\n",
        "\n",
        "    # Integer encode the documents\n",
        "    encoded_docs_train = tokenizer.texts_to_sequences(docs_X_train)\n",
        "    encoded_docs_test = tokenizer.texts_to_sequences(docs_X_test)\n",
        "\n",
        "    # Pad documents to a max length of words\n",
        "    padded_docs_train = pad_sequences(\n",
        "        encoded_docs_train,\n",
        "        maxlen=max_sequence_length,\n",
        "        padding=\"post\",\n",
        "        truncating=\"post\",\n",
        "    )\n",
        "    padded_docs_test = pad_sequences(\n",
        "        encoded_docs_test, maxlen=max_sequence_length, padding=\"post\", truncating=\"post\"\n",
        "    )\n",
        "\n",
        "    return padded_docs_train, padded_docs_test, tokenizer"
      ]
    },
    {
      "cell_type": "markdown",
      "metadata": {
        "id": "4k62-DLpCjpa"
      },
      "source": [
        "# ***DCF***"
      ]
    },
    {
      "cell_type": "markdown",
      "metadata": {
        "id": "ydnexQZdTGQa"
      },
      "source": [
        "## Building DCF"
      ]
    },
    {
      "cell_type": "code",
      "execution_count": null,
      "metadata": {
        "id": "Mlm0MPEpD21C"
      },
      "outputs": [],
      "source": [
        "import numpy as np\n",
        "from sklearn import metrics\n",
        "from tensorflow.keras.layers import Input, Embedding, Conv1D, GlobalMaxPooling1D, Dense\n",
        "from tensorflow.keras.models import Model\n",
        "import time\n",
        "# Import your custom functions if they are in separate modules\n",
        "# from your_module import balance_data, DCF_classify, evaluate_model, roc\n",
        "\n",
        "def DCF_model(\n",
        "    X_train,\n",
        "    X_test,\n",
        "    y_train,\n",
        "    y_test,\n",
        "    params,\n",
        "    class_weights,\n",
        "    vocab_size,\n",
        "    max_sequence_length,\n",
        "    embedding_matrix,\n",
        "    embedding_dim,\n",
        "):\n",
        "    \"\"\"Build DCF layers (auto-complexity)\"\"\"\n",
        "\n",
        "    filters = params[\"filters\"]\n",
        "    kernel_size = params[\"kernel_size\"]\n",
        "    epochs = params[\"epochs\"]\n",
        "\n",
        "    # Calculate time of execution\n",
        "    start_time = time.time()\n",
        "\n",
        "    max_num_iterations = 10\n",
        "    count = 0\n",
        "    accuracy = 0  # Initialize accuracy\n",
        "    best_pred = None\n",
        "    best_proba = None\n",
        "    best_level = 0  # Initialize best level\n",
        "    patience = 5\n",
        "    ori_patience = 5\n",
        "\n",
        "    for i in range(1, max_num_iterations, 1):\n",
        "        pooling_layer_name = \"pool_layer\" + str(i)\n",
        "        if i == 1:\n",
        "            input_layer = Input(shape=(max_sequence_length,))\n",
        "            embedding_layer = Embedding(\n",
        "                vocab_size,\n",
        "                embedding_dim,\n",
        "                input_length=max_sequence_length,\n",
        "                weights=[embedding_matrix],\n",
        "                trainable=True,\n",
        "                mask_zero=True,\n",
        "            )(input_layer)\n",
        "            conv_layer = Conv1D(filters=filters, kernel_size=kernel_size, activation=\"relu\")(embedding_layer)\n",
        "            pooling_layer = GlobalMaxPooling1D(name=pooling_layer_name)(conv_layer)\n",
        "            output_layer = Dense(2, activation=\"softmax\")(pooling_layer)\n",
        "\n",
        "            model = Model(inputs=input_layer, outputs=output_layer)\n",
        "\n",
        "        elif i > 1:\n",
        "            X_train = X_train.reshape(X_train.shape[0], X_train.shape[1], 1)\n",
        "            X_test = X_test.reshape(X_test.shape[0], X_test.shape[1], 1)\n",
        "\n",
        "            input_layer = Input(shape=(X_train.shape[1], 1))\n",
        "            conv_layer = Conv1D(\n",
        "                filters=filters,\n",
        "                kernel_size=kernel_size,\n",
        "                activation=\"relu\",\n",
        "            )(input_layer)\n",
        "            pooling_layer = GlobalMaxPooling1D(name=pooling_layer_name)(conv_layer)\n",
        "            output_layer = Dense(2, activation=\"softmax\")(pooling_layer)\n",
        "\n",
        "            model = Model(inputs=input_layer, outputs=output_layer)\n",
        "\n",
        "        model.compile(\n",
        "            loss=\"sparse_categorical_crossentropy\",\n",
        "            optimizer=\"adam\",\n",
        "            metrics=[\"accuracy\"],\n",
        "        )\n",
        "        model.fit(\n",
        "            X_train, y_train, class_weight=class_weights, epochs=epochs, verbose=0\n",
        "        )\n",
        "\n",
        "        feature_maps_model = Model(\n",
        "            inputs=model.input, outputs=model.get_layer(pooling_layer_name).output\n",
        "        )\n",
        "        X_train = feature_maps_model.predict(X_train)\n",
        "        X_test = feature_maps_model.predict(X_test)\n",
        "        print(\"Train Output shape: \" + str(X_train.shape))\n",
        "        print(\"Test Output shape: \" + str(X_test.shape))\n",
        "\n",
        "        # Summarize the model\n",
        "        print()\n",
        "        print(model.summary())\n",
        "\n",
        "        if i == 1:\n",
        "            X_train, y_train = balance_data(X_train, y_train)\n",
        "\n",
        "            # Classify using Random Forest and Extremely Randomized Trees\n",
        "            probs_train, probs_test, y_pred, y_proba = DCF_classify(\n",
        "                X_train, X_test, y_train, y_test, class_weights\n",
        "            )\n",
        "\n",
        "            accuracy = metrics.accuracy_score(y_test, y_pred)\n",
        "            print(\"Accuracy of level #1 = \", accuracy)\n",
        "            best_pred = y_pred\n",
        "            best_proba = y_proba\n",
        "            best_level = i\n",
        "\n",
        "            print(metrics.classification_report(y_test, y_pred, digits=4))\n",
        "\n",
        "        elif i > 1:\n",
        "            X_train_with_probs = np.concatenate((X_train, probs_train), axis=1)\n",
        "            X_test_with_probs = np.concatenate((X_test, probs_test), axis=1)\n",
        "\n",
        "            probs_train, probs_test, y_pred, y_proba = DCF_classify(\n",
        "                X_train_with_probs, X_test_with_probs, y_train, y_test, class_weights\n",
        "            )\n",
        "\n",
        "            new_accuracy = metrics.accuracy_score(y_test, y_pred)\n",
        "\n",
        "            print(metrics.classification_report(y_test, y_pred, digits=4))\n",
        "\n",
        "            print(\"Accuracy of level #\", i, \" = \", new_accuracy)\n",
        "            if new_accuracy > accuracy:\n",
        "                accuracy = new_accuracy\n",
        "                best_pred = y_pred\n",
        "                best_proba = y_proba\n",
        "                best_level = i\n",
        "                # count = 0\n",
        "                if patience != ori_patience:\n",
        "                  patience = ori_patience\n",
        "            else:\n",
        "                patience -= 1\n",
        "\n",
        "            if patience == 0:\n",
        "                print(\"Total number of levels = \", i)\n",
        "                break\n",
        "\n",
        "    end_time = time.time()\n",
        "    print(\"\\nRuntime of DCF = \", end_time - start_time)\n",
        "    print(\"\\nDCF's Final accuracy = \", accuracy, \" at level #\", best_level, \"\\n\")\n",
        "\n",
        "    # Calculate/Plot classification metrics\n",
        "    evaluate_model(y_test, best_pred)\n",
        "    fpr, tpr, auc = roc(y_test, best_proba)\n",
        "\n",
        "    return fpr, tpr, auc\n"
      ]
    },
    {
      "cell_type": "markdown",
      "metadata": {
        "id": "wQ-Tt2sSTKX9"
      },
      "source": [
        "## Classification"
      ]
    },
    {
      "cell_type": "code",
      "execution_count": null,
      "metadata": {
        "id": "AmMNGlXSTPzj"
      },
      "outputs": [],
      "source": [
        "def DCF_classify(X_train, X_test, y_train, y_test, class_weights):\n",
        "    \"\"\"Build DCF's base classifiers (RandomForestClassifier and ExtraTreesClassifier)\"\"\"\n",
        "\n",
        "    classifier1 = RandomForestClassifier(\n",
        "        n_estimators=100, criterion=\"gini\", class_weight=class_weights, random_state=0\n",
        "    )\n",
        "    classifier2 = RandomForestClassifier(\n",
        "        n_estimators=100,\n",
        "        criterion=\"entropy\",\n",
        "        class_weight=class_weights,\n",
        "        random_state=0,\n",
        "    )\n",
        "    classifier3 = ExtraTreesClassifier(\n",
        "        n_estimators=100, criterion=\"gini\", class_weight=class_weights, random_state=0\n",
        "    )\n",
        "    classifier4 = ExtraTreesClassifier(\n",
        "        n_estimators=100,\n",
        "        criterion=\"entropy\",\n",
        "        class_weight=class_weights,\n",
        "        random_state=0,\n",
        "    )\n",
        "\n",
        "    # Classifier 1\n",
        "    classifier1.fit(X_train, y_train)\n",
        "    probs_train1 = classifier1.predict_proba(X_train)\n",
        "    probs_test1 = classifier1.predict_proba(X_test)\n",
        "\n",
        "    # Classifier 2\n",
        "    classifier2.fit(X_train, y_train)\n",
        "    probs_train2 = classifier2.predict_proba(X_train)\n",
        "    probs_test2 = classifier2.predict_proba(X_test)\n",
        "\n",
        "    # Classifier 3\n",
        "    classifier3.fit(X_train, y_train)\n",
        "    probs_train3 = classifier3.predict_proba(X_train)\n",
        "    probs_test3 = classifier3.predict_proba(X_test)\n",
        "\n",
        "    # Classifier 4\n",
        "    classifier4.fit(X_train, y_train)\n",
        "    probs_train4 = classifier4.predict_proba(X_train)\n",
        "    probs_test4 = classifier4.predict_proba(X_test)\n",
        "\n",
        "    probs_train = np.concatenate(\n",
        "        (probs_train1, probs_train2, probs_train3, probs_train4), axis=1\n",
        "    )\n",
        "    probs_test = np.concatenate(\n",
        "        (probs_test1, probs_test2, probs_test3, probs_test4), axis=1\n",
        "    )\n",
        "\n",
        "    y_pred = []\n",
        "    y_proba = []\n",
        "    for i in range(0, len(X_test)):\n",
        "        avg_ham = (\n",
        "            probs_test1[i][0]\n",
        "            + probs_test2[i][0]\n",
        "            + probs_test3[i][0]\n",
        "            + probs_test4[i][0]\n",
        "        ) / 4\n",
        "        avg_spam = (\n",
        "            probs_test1[i][1]\n",
        "            + probs_test2[i][1]\n",
        "            + probs_test3[i][1]\n",
        "            + probs_test4[i][1]\n",
        "        ) / 4\n",
        "        if avg_ham > avg_spam:\n",
        "            # ham\n",
        "            y_pred.append(0)\n",
        "        else:\n",
        "            # spam\n",
        "            y_pred.append(1)\n",
        "\n",
        "        max_spam = max(\n",
        "            [probs_test1[i][1], probs_test2[i][1], probs_test3[i][1], probs_test4[i][1]]\n",
        "        )\n",
        "        y_proba.append(max_spam)\n",
        "\n",
        "    return probs_train, probs_test, y_pred, y_proba"
      ]
    },
    {
      "cell_type": "markdown",
      "metadata": {
        "id": "CnBMQo52YLZR"
      },
      "source": [
        "## Evaluating"
      ]
    },
    {
      "cell_type": "code",
      "execution_count": null,
      "metadata": {
        "id": "PmuYQYYrYKuw"
      },
      "outputs": [],
      "source": [
        "def evaluate_model(y_test, y_pred):\n",
        "    \"\"\"Plot confusion matrix and print classification report\"\"\"\n",
        "\n",
        "    target_names = [\"Ham\", \"Spam\"]\n",
        "\n",
        "    # Plot normalized confusion matrix\n",
        "    plot_confusion_matrix(y_test, y_pred)\n",
        "\n",
        "    print(\n",
        "        metrics.classification_report(\n",
        "            y_test, y_pred, target_names=target_names, digits=4\n",
        "        )\n",
        "    )\n",
        "\n",
        "\n",
        "def plot_confusion_matrix(y_test, y_pred):\n",
        "    \"\"\"Calculate and print the confusion matrix\"\"\"\n",
        "\n",
        "    print(metrics.confusion_matrix(y_test, y_pred))\n",
        "\n",
        "\n",
        "def roc(y_test, y_proba):\n",
        "    \"\"\"Calculate ROC curve\"\"\"\n",
        "\n",
        "    fpr, tpr, _ = metrics.roc_curve(y_test, y_proba)\n",
        "    auc = metrics.roc_auc_score(y_test, y_proba)\n",
        "    return fpr, tpr, auc"
      ]
    },
    {
      "cell_type": "markdown",
      "metadata": {
        "id": "ZrV8mYRY-u_W"
      },
      "source": [
        "# ***Deep Learning Algorithms***"
      ]
    },
    {
      "cell_type": "markdown",
      "metadata": {
        "id": "tcrJkOdU-0SB"
      },
      "source": [
        "## CNN"
      ]
    },
    {
      "cell_type": "code",
      "execution_count": null,
      "metadata": {
        "id": "2ol-SOZ2_6Rf"
      },
      "outputs": [],
      "source": [
        "def cnn_model_v1(\n",
        "    X_train,\n",
        "    X_test,\n",
        "    y_train,\n",
        "    y_test,\n",
        "    params,\n",
        "    class_weights,\n",
        "    vocab_size,\n",
        "    max_sequence_length,\n",
        "    embedding_matrix,\n",
        "    embedding_dim,\n",
        "):\n",
        "    filters = params[\"filters\"]\n",
        "    kernel_size = params[\"kernel_size\"]\n",
        "    epochs = params[\"epochs\"]\n",
        "\n",
        "    start_time = time.time()\n",
        "\n",
        "    model = Sequential()\n",
        "    model.add(\n",
        "        Embedding(\n",
        "            vocab_size,\n",
        "            embedding_dim,\n",
        "            input_length=max_sequence_length,\n",
        "            weights=[embedding_matrix],\n",
        "            trainable=True,\n",
        "            mask_zero=True,\n",
        "        )\n",
        "    )\n",
        "    model.add(Conv1D(filters=filters, kernel_size=kernel_size, activation=\"relu\"))\n",
        "    model.add(GlobalMaxPooling1D())\n",
        "    model.add(Dense(2, activation=\"softmax\"))\n",
        "\n",
        "    model.compile(\n",
        "        loss=\"sparse_categorical_crossentropy\", optimizer=\"adam\", metrics=[\"accuracy\"]\n",
        "    )\n",
        "    model.fit(X_train, y_train, class_weight=class_weights, epochs=epochs, verbose=0)\n",
        "\n",
        "    model.evaluate(X_test, y_test)\n",
        "    y_pred = np.argmax(model.predict(X_test), axis=1)\n",
        "    y_proba = model.predict(X_test)[::, 1]\n",
        "\n",
        "    end_time = time.time()\n",
        "    print(\"\\nRuntime of 1-CNN = \", end_time - start_time)\n",
        "\n",
        "    print(\"Classification metrics of 1-layer CNN\")\n",
        "    print(metrics.classification_report(y_test, y_pred, digits=4))\n",
        "\n",
        "    fpr, tpr, auc = roc(y_test, y_proba)\n",
        "\n",
        "    return fpr, tpr, auc"
      ]
    },
    {
      "cell_type": "code",
      "execution_count": null,
      "metadata": {
        "id": "ijk2UTUTT4K0"
      },
      "outputs": [],
      "source": [
        "def cnn_model_v2(\n",
        "    X_train,\n",
        "    X_test,\n",
        "    y_train,\n",
        "    y_test,\n",
        "    params,\n",
        "    class_weights,\n",
        "    vocab_size,\n",
        "    max_sequence_length,\n",
        "    embedding_matrix,\n",
        "    embedding_dim,\n",
        "):\n",
        "    filters = params[\"filters\"]\n",
        "    kernel_size = params[\"kernel_size\"]\n",
        "    epochs = params[\"epochs\"]\n",
        "\n",
        "    start_time = time.time()\n",
        "\n",
        "    model = Sequential()\n",
        "    model.add(\n",
        "        Embedding(\n",
        "            vocab_size,\n",
        "            embedding_dim,\n",
        "            input_length=max_sequence_length,\n",
        "            weights=[embedding_matrix],\n",
        "            trainable=True,\n",
        "            mask_zero=True,\n",
        "        )\n",
        "    )\n",
        "    model.add(Conv1D(filters=filters, kernel_size=kernel_size, activation=\"relu\"))\n",
        "    model.add(Conv1D(filters=filters, kernel_size=kernel_size, activation=\"relu\"))\n",
        "    model.add(GlobalMaxPooling1D())\n",
        "    model.add(Dense(2, activation=\"softmax\"))\n",
        "\n",
        "    model.compile(\n",
        "        loss=\"sparse_categorical_crossentropy\", optimizer=\"adam\", metrics=[\"accuracy\"]\n",
        "    )\n",
        "    model.fit(X_train, y_train, class_weight=class_weights, epochs=epochs, verbose=0)\n",
        "\n",
        "    model.evaluate(X_test, y_test)\n",
        "    y_pred = np.argmax(model.predict(X_test), axis=1)\n",
        "    y_proba = model.predict(X_test)[::, 1]\n",
        "\n",
        "    end_time = time.time()\n",
        "    print(\"\\nRuntime of 2-CNN = \", end_time - start_time)\n",
        "\n",
        "    print(\"Classification metrics of 2-layer CNN\")\n",
        "    print(metrics.classification_report(y_test, y_pred, digits=4))\n",
        "\n",
        "    fpr, tpr, auc = roc(y_test, y_proba)\n",
        "\n",
        "    return fpr, tpr, auc"
      ]
    },
    {
      "cell_type": "code",
      "execution_count": null,
      "metadata": {
        "id": "CUXLERpTULH6"
      },
      "outputs": [],
      "source": [
        "def cnn_model_v3(\n",
        "    X_train,\n",
        "    X_test,\n",
        "    y_train,\n",
        "    y_test,\n",
        "    params,\n",
        "    class_weights,\n",
        "    vocab_size,\n",
        "    max_sequence_length,\n",
        "    embedding_matrix,\n",
        "    embedding_dim,\n",
        "):\n",
        "    filters = params[\"filters\"]\n",
        "    kernel_size = params[\"kernel_size\"]\n",
        "    epochs = params[\"epochs\"]\n",
        "\n",
        "    start_time = time.time()\n",
        "\n",
        "    model = Sequential()\n",
        "    model.add(\n",
        "        Embedding(\n",
        "            vocab_size,\n",
        "            embedding_dim,\n",
        "            input_length=max_sequence_length,\n",
        "            weights=[embedding_matrix],\n",
        "            trainable=True,\n",
        "            mask_zero=True,\n",
        "        )\n",
        "    )\n",
        "    model.add(Conv1D(filters=filters, kernel_size=kernel_size, activation=\"relu\"))\n",
        "    model.add(Conv1D(filters=filters, kernel_size=kernel_size, activation=\"relu\"))\n",
        "    model.add(Conv1D(filters=filters, kernel_size=kernel_size, activation=\"relu\"))\n",
        "    model.add(GlobalMaxPooling1D())\n",
        "    model.add(Dense(2, activation=\"softmax\"))\n",
        "\n",
        "    model.compile(\n",
        "        loss=\"sparse_categorical_crossentropy\", optimizer=\"adam\", metrics=[\"accuracy\"]\n",
        "    )\n",
        "    model.fit(X_train, y_train, class_weight=class_weights, epochs=epochs, verbose=0)\n",
        "\n",
        "    model.evaluate(X_test, y_test)\n",
        "    y_pred = np.argmax(model.predict(X_test), axis=1)\n",
        "    y_proba = model.predict(X_test)[::, 1]\n",
        "\n",
        "    end_time = time.time()\n",
        "    print(\"\\nRuntime of 3-CNN = \", end_time - start_time)\n",
        "\n",
        "    print(\"Classification metrics of 3-layer CNN\")\n",
        "    print(metrics.classification_report(y_test, y_pred, digits=4))\n",
        "\n",
        "    fpr, tpr, auc = roc(y_test, y_proba)\n",
        "\n",
        "    return fpr, tpr, auc"
      ]
    },
    {
      "cell_type": "markdown",
      "metadata": {
        "id": "GlFsPzej-2tL"
      },
      "source": [
        "## LSTM"
      ]
    },
    {
      "cell_type": "code",
      "execution_count": null,
      "metadata": {
        "id": "3Ewml9n_aK_C"
      },
      "outputs": [],
      "source": [
        "def lstm_model(\n",
        "    X_train,\n",
        "    X_test,\n",
        "    y_train,\n",
        "    y_test,\n",
        "    params,\n",
        "    class_weights,\n",
        "    vocab_size,\n",
        "    max_sequence_length,\n",
        "    embedding_matrix,\n",
        "    embedding_dim,\n",
        "):\n",
        "    units = params[\"units\"]\n",
        "    epochs = params[\"epochs\"]\n",
        "\n",
        "    start_time = time.time()\n",
        "\n",
        "    model = Sequential()\n",
        "    model.add(\n",
        "        Embedding(\n",
        "            vocab_size,\n",
        "            embedding_dim,\n",
        "            input_length=max_sequence_length,\n",
        "            weights=[embedding_matrix],\n",
        "            trainable=True,\n",
        "            mask_zero=True,\n",
        "        )\n",
        "    )\n",
        "    model.add(LSTM(units=units, activation=\"relu\"))\n",
        "    model.add(Dense(2, activation=\"softmax\"))\n",
        "\n",
        "    model.compile(\n",
        "        loss=\"sparse_categorical_crossentropy\", optimizer=\"adam\", metrics=[\"accuracy\"]\n",
        "    )\n",
        "    model.fit(X_train, y_train, class_weight=class_weights, epochs=epochs, verbose=0)\n",
        "\n",
        "    model.evaluate(X_test, y_test)\n",
        "    y_pred = np.argmax(model.predict(X_test), axis=1)\n",
        "    y_proba = model.predict(X_test)[::, 1]\n",
        "\n",
        "    end_time = time.time()\n",
        "    print(\"\\nRuntime of LSTM = \", end_time - start_time)\n",
        "\n",
        "    print(\"Classification metrics of LSTM\")\n",
        "    print(metrics.classification_report(y_test, y_pred, digits=4))\n",
        "\n",
        "    fpr, tpr, auc = roc(y_test, y_proba)\n",
        "\n",
        "    return fpr, tpr, auc"
      ]
    },
    {
      "cell_type": "markdown",
      "metadata": {
        "id": "ZVFGflCuPm4e"
      },
      "source": [
        "## All DL models (CNN, LSTM)"
      ]
    },
    {
      "cell_type": "code",
      "execution_count": null,
      "metadata": {
        "id": "RC54MkgfPVIU"
      },
      "outputs": [],
      "source": [
        "import pandas as pd\n",
        "\n",
        "def DL_models(\n",
        "    DCF_fpr,\n",
        "    DCF_tpr,\n",
        "    DCF_auc,\n",
        "    X_train,\n",
        "    X_test,\n",
        "    y_train,\n",
        "    y_test,\n",
        "    params,\n",
        "    class_weights,\n",
        "    vocab_size,\n",
        "    max_sequence_length,\n",
        "    embedding_matrix,\n",
        "    embedding_dim,\n",
        "):\n",
        "    \"\"\"Compare DCF with deep learning techniques\"\"\"\n",
        "\n",
        "    result_table = pd.DataFrame(columns=[\"classifiers\", \"fpr\", \"tpr\", \"auc\"])\n",
        "\n",
        "    print(\"\\n*******************************1-CNN*******************************\\n\")\n",
        "    fpr, tpr, auc = cnn_model_v1(\n",
        "        X_train,\n",
        "        X_test,\n",
        "        y_train,\n",
        "        y_test,\n",
        "        params=params,\n",
        "        class_weights=class_weights,\n",
        "        vocab_size=vocab_size,\n",
        "        max_sequence_length=max_sequence_length,\n",
        "        embedding_matrix=embedding_matrix,\n",
        "        embedding_dim=embedding_dim,\n",
        "    )\n",
        "    new_row = pd.DataFrame([{\"classifiers\": \"1-CNN\", \"fpr\": fpr, \"tpr\": tpr, \"auc\": auc}])\n",
        "    result_table = pd.concat([result_table, new_row], ignore_index=True)\n",
        "\n",
        "    print(\"\\n*******************************2-CNN*******************************\\n\")\n",
        "    fpr, tpr, auc = cnn_model_v2(\n",
        "        X_train,\n",
        "        X_test,\n",
        "        y_train,\n",
        "        y_test,\n",
        "        params=params,\n",
        "        class_weights=class_weights,\n",
        "        vocab_size=vocab_size,\n",
        "        max_sequence_length=max_sequence_length,\n",
        "        embedding_matrix=embedding_matrix,\n",
        "        embedding_dim=embedding_dim,\n",
        "    )\n",
        "    new_row = pd.DataFrame([{\"classifiers\": \"2-CNN\", \"fpr\": fpr, \"tpr\": tpr, \"auc\": auc}])\n",
        "    result_table = pd.concat([result_table, new_row], ignore_index=True)\n",
        "\n",
        "    print(\"\\n*******************************3-CNN*******************************\\n\")\n",
        "    fpr, tpr, auc = cnn_model_v3(\n",
        "        X_train,\n",
        "        X_test,\n",
        "        y_train,\n",
        "        y_test,\n",
        "        params=params,\n",
        "        class_weights=class_weights,\n",
        "        vocab_size=vocab_size,\n",
        "        max_sequence_length=max_sequence_length,\n",
        "        embedding_matrix=embedding_matrix,\n",
        "        embedding_dim=embedding_dim,\n",
        "    )\n",
        "    new_row = pd.DataFrame([{\"classifiers\": \"3-CNN\", \"fpr\": fpr, \"tpr\": tpr, \"auc\": auc}])\n",
        "    result_table = pd.concat([result_table, new_row], ignore_index=True)\n",
        "\n",
        "    print(\"\\n*******************************LSTM*******************************\\n\")\n",
        "    fpr, tpr, auc = lstm_model(\n",
        "        X_train,\n",
        "        X_test,\n",
        "        y_train,\n",
        "        y_test,\n",
        "        params=params,\n",
        "        class_weights=class_weights,\n",
        "        vocab_size=vocab_size,\n",
        "        max_sequence_length=max_sequence_length,\n",
        "        embedding_matrix=embedding_matrix,\n",
        "        embedding_dim=embedding_dim,\n",
        "    )\n",
        "    new_row = pd.DataFrame([{\"classifiers\": \"LSTM\", \"fpr\": fpr, \"tpr\": tpr, \"auc\": auc}])\n",
        "    result_table = pd.concat([result_table, new_row], ignore_index=True)\n",
        "\n",
        "    # Adding DCF metrics to result_table\n",
        "    new_row = pd.DataFrame([{\"classifiers\": \"DCF\", \"fpr\": DCF_fpr, \"tpr\": DCF_tpr, \"auc\": DCF_auc}])\n",
        "    result_table = pd.concat([result_table, new_row], ignore_index=True)\n",
        "\n",
        "    # Set name of the classifiers as index labels\n",
        "    result_table.set_index(\"classifiers\", inplace=True)\n",
        "\n",
        "    # Plot multiple ROC-Curve\n",
        "    plot_ROC_all(\"ROC for DL models\", result_table)\n"
      ]
    },
    {
      "cell_type": "markdown",
      "metadata": {
        "id": "pMH1OCVOL9yj"
      },
      "source": [
        "# ***Machine Learning Algorithms***"
      ]
    },
    {
      "cell_type": "markdown",
      "metadata": {
        "id": "bw0cZKHocn0q"
      },
      "source": [
        "## All ML models (SVM, NB, KNN, RF)"
      ]
    },
    {
      "cell_type": "code",
      "execution_count": null,
      "metadata": {
        "id": "fetTCpEiMDRF"
      },
      "outputs": [],
      "source": [
        "import pandas as pd\n",
        "from sklearn.svm import SVC\n",
        "from sklearn.naive_bayes import GaussianNB\n",
        "from sklearn.neighbors import KNeighborsClassifier\n",
        "from sklearn.ensemble import RandomForestClassifier\n",
        "from sklearn import metrics\n",
        "\n",
        "def ML_models(\n",
        "    DCF_fpr,\n",
        "    DCF_tpr,\n",
        "    DCF_auc,\n",
        "    features_train,\n",
        "    features_test,\n",
        "    y_train,\n",
        "    y_test,\n",
        "    class_weights,\n",
        "):\n",
        "    \"\"\"Compare DCF with machine learning algorithms\"\"\"\n",
        "\n",
        "    classifiers = [\n",
        "        SVC(random_state=0, kernel=\"rbf\", probability=True),\n",
        "        GaussianNB(),\n",
        "        KNeighborsClassifier(),\n",
        "        RandomForestClassifier(\n",
        "            n_estimators=100, class_weight=class_weights, random_state=0\n",
        "        ),\n",
        "    ]\n",
        "\n",
        "    result_table = pd.DataFrame(columns=[\"classifiers\", \"fpr\", \"tpr\", \"auc\"])\n",
        "\n",
        "    # Train the models and record the results\n",
        "    i = 0\n",
        "    for cls in classifiers:\n",
        "        i += 1\n",
        "        # Assign classifier names based on iteration\n",
        "        classifier_name = \"SVM\"\n",
        "        if i == 2:\n",
        "            classifier_name = \"NB\"\n",
        "        elif i == 3:\n",
        "            classifier_name = \"KNN\"\n",
        "        elif i == 4:\n",
        "            classifier_name = \"RF\"\n",
        "\n",
        "        model = cls.fit(features_train, y_train)\n",
        "        y_pred = model.predict(features_test)\n",
        "        y_proba = model.predict_proba(features_test)[::, 1]\n",
        "\n",
        "        fpr, tpr, _ = metrics.roc_curve(y_test, y_proba)\n",
        "        auc = metrics.roc_auc_score(y_test, y_proba)\n",
        "\n",
        "        # Create a new DataFrame for the current result\n",
        "        new_row = pd.DataFrame([{\n",
        "            \"classifiers\": classifier_name,\n",
        "            \"fpr\": fpr,\n",
        "            \"tpr\": tpr,\n",
        "            \"auc\": auc\n",
        "        }])\n",
        "\n",
        "        # Concatenate the new row to the result_table\n",
        "        result_table = pd.concat([result_table, new_row], ignore_index=True)\n",
        "\n",
        "        print(\"Classification report of\", cls.__class__.__name__)\n",
        "        print(metrics.classification_report(y_test, y_pred, digits=4))\n",
        "\n",
        "    # Adding DCF metrics to result_table\n",
        "    new_row = pd.DataFrame([{\n",
        "        \"classifiers\": \"DCF\",\n",
        "        \"fpr\": DCF_fpr,\n",
        "        \"tpr\": DCF_tpr,\n",
        "        \"auc\": DCF_auc\n",
        "    }])\n",
        "    result_table = pd.concat([result_table, new_row], ignore_index=True)\n",
        "\n",
        "    # Set name of the classifiers as index labels\n",
        "    result_table.set_index(\"classifiers\", inplace=True)\n",
        "\n",
        "    # Plot multiple ROC-Curve\n",
        "    plot_ROC_all(\"ROC for ML models\", result_table)\n"
      ]
    },
    {
      "cell_type": "markdown",
      "metadata": {
        "id": "8cjDN2CyYcD6"
      },
      "source": [
        "# ***Plot ROC for All Models***"
      ]
    },
    {
      "cell_type": "code",
      "execution_count": null,
      "metadata": {
        "id": "hCm7SazTYeyG"
      },
      "outputs": [],
      "source": [
        "def plot_ROC_all(plot_name, result_table):\n",
        "    \"\"\"Plot multiple ROC-Curve\"\"\"\n",
        "\n",
        "    fig = plt.figure(figsize=(8, 6))\n",
        "\n",
        "    for i in result_table.index:\n",
        "        plt.plot(\n",
        "            result_table.loc[i][\"fpr\"],\n",
        "            result_table.loc[i][\"tpr\"],\n",
        "            label=\"{}, AUC={:.3f}\".format(i, result_table.loc[i][\"auc\"]),\n",
        "        )\n",
        "\n",
        "    plt.plot([0, 1], [0, 1], color=\"orange\", linestyle=\"--\")\n",
        "\n",
        "    plt.xticks(np.arange(0.0, 1.1, step=0.1))\n",
        "    plt.xlabel(\"False Positive Rate\", fontsize=15)\n",
        "\n",
        "    plt.yticks(np.arange(0.0, 1.1, step=0.1))\n",
        "    plt.ylabel(\"True Positive Rate\", fontsize=15)\n",
        "\n",
        "    plt.legend(prop={\"size\": 13}, loc=\"lower right\")\n",
        "\n",
        "    plt.show()\n",
        "    fig.savefig(\"/content/\" + plot_name + \".pdf\")"
      ]
    },
    {
      "cell_type": "markdown",
      "metadata": {
        "id": "O6jAv8wKCvIh"
      },
      "source": [
        "# ***Main***"
      ]
    },
    {
      "cell_type": "code",
      "execution_count": null,
      "metadata": {
        "colab": {
          "base_uri": "https://localhost:8080/",
          "height": 1000
        },
        "id": "DHly-HoC5Gsl",
        "outputId": "c2dcc335-123d-47ad-aecc-36c070bee14b"
      },
      "outputs": [
        {
          "output_type": "stream",
          "name": "stdout",
          "text": [
            "<class 'pandas.core.frame.DataFrame'>\n",
            "Index: 5563 entries, 0 to 5570\n",
            "Data columns (total 45 columns):\n",
            " #   Column                   Non-Null Count  Dtype  \n",
            "---  ------                   --------------  -----  \n",
            " 0   Label                    5563 non-null   int64  \n",
            " 1   Message                  5563 non-null   object \n",
            " 2   ProcessedMessage         5563 non-null   object \n",
            " 3   characters_count         5563 non-null   int64  \n",
            " 4   words_count              5563 non-null   int64  \n",
            " 5   readability              5563 non-null   float64\n",
            " 6   misspelled_count         5563 non-null   int64  \n",
            " 7   emails_count             5563 non-null   int64  \n",
            " 8   phones_count             5563 non-null   int64  \n",
            " 9   is_currency_found        5563 non-null   int64  \n",
            " 10  call                     5563 non-null   int64  \n",
            " 11  Ã¥Â£                     5563 non-null   int64  \n",
            " 12  free                     5563 non-null   int64  \n",
            " 13  txt                      5563 non-null   int64  \n",
            " 14  text                     5563 non-null   int64  \n",
            " 15  mobile                   5563 non-null   int64  \n",
            " 16  stop                     5563 non-null   int64  \n",
            " 17  claim                    5563 non-null   int64  \n",
            " 18  reply                    5563 non-null   int64  \n",
            " 19  prize                    5563 non-null   int64  \n",
            " 20  get                      5563 non-null   int64  \n",
            " 21  tone                     5563 non-null   int64  \n",
            " 22  service                  5563 non-null   int64  \n",
            " 23  p                        5563 non-null   int64  \n",
            " 24  nokia                    5563 non-null   int64  \n",
            " 25  new                      5563 non-null   int64  \n",
            " 26  send                     5563 non-null   int64  \n",
            " 27  urgent                   5563 non-null   int64  \n",
            " 28  win                      5563 non-null   int64  \n",
            " 29  week                     5563 non-null   int64  \n",
            " 30  ('Ã¥Â£', 'prize')        5563 non-null   int64  \n",
            " 31  ('please', 'call')       5563 non-null   int64  \n",
            " 32  ('Ã¥Â£', 'cash')         5563 non-null   int64  \n",
            " 33  ('po', 'box')            5563 non-null   int64  \n",
            " 34  ('customer', 'service')  5563 non-null   int64  \n",
            " 35  ('p', 'per')             5563 non-null   int64  \n",
            " 36  ('guaranteed', 'call')   5563 non-null   int64  \n",
            " 37  ('call', 'landline')     5563 non-null   int64  \n",
            " 38  ('prize', 'guaranteed')  5563 non-null   int64  \n",
            " 39  ('win', 'Ã¥Â£')          5563 non-null   int64  \n",
            " 40  ip_count                 5563 non-null   int64  \n",
            " 41  urls_count               5563 non-null   int64  \n",
            " 42  url                      102 non-null    object \n",
            " 43  broken_url_count         5563 non-null   int64  \n",
            " 44  has_blacklist_url        5563 non-null   int64  \n",
            "dtypes: float64(1), int64(41), object(3)\n",
            "memory usage: 2.0+ MB\n",
            "Found 400000 word vectors.\n",
            "\n",
            "*******************************Run DCF*******************************\n",
            "\n"
          ]
        },
        {
          "output_type": "stream",
          "name": "stderr",
          "text": [
            "/usr/local/lib/python3.10/dist-packages/keras/src/layers/core/embedding.py:90: UserWarning: Argument `input_length` is deprecated. Just remove it.\n",
            "  warnings.warn(\n",
            "/usr/local/lib/python3.10/dist-packages/keras/src/layers/layer.py:934: UserWarning: Layer 'conv1d' (of type Conv1D) was passed an input with a mask attached to it. However, this layer does not support masking and will therefore destroy the mask information. Downstream layers will not see the mask.\n",
            "  warnings.warn(\n"
          ]
        },
        {
          "output_type": "stream",
          "name": "stdout",
          "text": [
            "\u001b[1m140/140\u001b[0m \u001b[32m━━━━━━━━━━━━━━━━━━━━\u001b[0m\u001b[37m\u001b[0m \u001b[1m0s\u001b[0m 3ms/step\n",
            "\u001b[1m35/35\u001b[0m \u001b[32m━━━━━━━━━━━━━━━━━━━━\u001b[0m\u001b[37m\u001b[0m \u001b[1m0s\u001b[0m 3ms/step\n",
            "Train Output shape: (4450, 64)\n",
            "Test Output shape: (1113, 64)\n",
            "\n"
          ]
        },
        {
          "output_type": "display_data",
          "data": {
            "text/plain": [
              "\u001b[1mModel: \"functional\"\u001b[0m\n"
            ],
            "text/html": [
              "<pre style=\"white-space:pre;overflow-x:auto;line-height:normal;font-family:Menlo,'DejaVu Sans Mono',consolas,'Courier New',monospace\"><span style=\"font-weight: bold\">Model: \"functional\"</span>\n",
              "</pre>\n"
            ]
          },
          "metadata": {}
        },
        {
          "output_type": "display_data",
          "data": {
            "text/plain": [
              "┏━━━━━━━━━━━━━━━━━━━━━━━━━━━━━━━━━━━━━━┳━━━━━━━━━━━━━━━━━━━━━━━━━━━━━┳━━━━━━━━━━━━━━━━━┓\n",
              "┃\u001b[1m \u001b[0m\u001b[1mLayer (type)                        \u001b[0m\u001b[1m \u001b[0m┃\u001b[1m \u001b[0m\u001b[1mOutput Shape               \u001b[0m\u001b[1m \u001b[0m┃\u001b[1m \u001b[0m\u001b[1m        Param #\u001b[0m\u001b[1m \u001b[0m┃\n",
              "┡━━━━━━━━━━━━━━━━━━━━━━━━━━━━━━━━━━━━━━╇━━━━━━━━━━━━━━━━━━━━━━━━━━━━━╇━━━━━━━━━━━━━━━━━┩\n",
              "│ input_layer (\u001b[38;5;33mInputLayer\u001b[0m)             │ (\u001b[38;5;45mNone\u001b[0m, \u001b[38;5;34m80\u001b[0m)                  │               \u001b[38;5;34m0\u001b[0m │\n",
              "├──────────────────────────────────────┼─────────────────────────────┼─────────────────┤\n",
              "│ embedding (\u001b[38;5;33mEmbedding\u001b[0m)                │ (\u001b[38;5;45mNone\u001b[0m, \u001b[38;5;34m80\u001b[0m, \u001b[38;5;34m100\u001b[0m)             │         \u001b[38;5;34m691,600\u001b[0m │\n",
              "├──────────────────────────────────────┼─────────────────────────────┼─────────────────┤\n",
              "│ conv1d (\u001b[38;5;33mConv1D\u001b[0m)                      │ (\u001b[38;5;45mNone\u001b[0m, \u001b[38;5;34m79\u001b[0m, \u001b[38;5;34m64\u001b[0m)              │          \u001b[38;5;34m12,864\u001b[0m │\n",
              "├──────────────────────────────────────┼─────────────────────────────┼─────────────────┤\n",
              "│ pool_layer1 (\u001b[38;5;33mGlobalMaxPooling1D\u001b[0m)     │ (\u001b[38;5;45mNone\u001b[0m, \u001b[38;5;34m64\u001b[0m)                  │               \u001b[38;5;34m0\u001b[0m │\n",
              "├──────────────────────────────────────┼─────────────────────────────┼─────────────────┤\n",
              "│ dense (\u001b[38;5;33mDense\u001b[0m)                        │ (\u001b[38;5;45mNone\u001b[0m, \u001b[38;5;34m2\u001b[0m)                   │             \u001b[38;5;34m130\u001b[0m │\n",
              "└──────────────────────────────────────┴─────────────────────────────┴─────────────────┘\n"
            ],
            "text/html": [
              "<pre style=\"white-space:pre;overflow-x:auto;line-height:normal;font-family:Menlo,'DejaVu Sans Mono',consolas,'Courier New',monospace\">┏━━━━━━━━━━━━━━━━━━━━━━━━━━━━━━━━━━━━━━┳━━━━━━━━━━━━━━━━━━━━━━━━━━━━━┳━━━━━━━━━━━━━━━━━┓\n",
              "┃<span style=\"font-weight: bold\"> Layer (type)                         </span>┃<span style=\"font-weight: bold\"> Output Shape                </span>┃<span style=\"font-weight: bold\">         Param # </span>┃\n",
              "┡━━━━━━━━━━━━━━━━━━━━━━━━━━━━━━━━━━━━━━╇━━━━━━━━━━━━━━━━━━━━━━━━━━━━━╇━━━━━━━━━━━━━━━━━┩\n",
              "│ input_layer (<span style=\"color: #0087ff; text-decoration-color: #0087ff\">InputLayer</span>)             │ (<span style=\"color: #00d7ff; text-decoration-color: #00d7ff\">None</span>, <span style=\"color: #00af00; text-decoration-color: #00af00\">80</span>)                  │               <span style=\"color: #00af00; text-decoration-color: #00af00\">0</span> │\n",
              "├──────────────────────────────────────┼─────────────────────────────┼─────────────────┤\n",
              "│ embedding (<span style=\"color: #0087ff; text-decoration-color: #0087ff\">Embedding</span>)                │ (<span style=\"color: #00d7ff; text-decoration-color: #00d7ff\">None</span>, <span style=\"color: #00af00; text-decoration-color: #00af00\">80</span>, <span style=\"color: #00af00; text-decoration-color: #00af00\">100</span>)             │         <span style=\"color: #00af00; text-decoration-color: #00af00\">691,600</span> │\n",
              "├──────────────────────────────────────┼─────────────────────────────┼─────────────────┤\n",
              "│ conv1d (<span style=\"color: #0087ff; text-decoration-color: #0087ff\">Conv1D</span>)                      │ (<span style=\"color: #00d7ff; text-decoration-color: #00d7ff\">None</span>, <span style=\"color: #00af00; text-decoration-color: #00af00\">79</span>, <span style=\"color: #00af00; text-decoration-color: #00af00\">64</span>)              │          <span style=\"color: #00af00; text-decoration-color: #00af00\">12,864</span> │\n",
              "├──────────────────────────────────────┼─────────────────────────────┼─────────────────┤\n",
              "│ pool_layer1 (<span style=\"color: #0087ff; text-decoration-color: #0087ff\">GlobalMaxPooling1D</span>)     │ (<span style=\"color: #00d7ff; text-decoration-color: #00d7ff\">None</span>, <span style=\"color: #00af00; text-decoration-color: #00af00\">64</span>)                  │               <span style=\"color: #00af00; text-decoration-color: #00af00\">0</span> │\n",
              "├──────────────────────────────────────┼─────────────────────────────┼─────────────────┤\n",
              "│ dense (<span style=\"color: #0087ff; text-decoration-color: #0087ff\">Dense</span>)                        │ (<span style=\"color: #00d7ff; text-decoration-color: #00d7ff\">None</span>, <span style=\"color: #00af00; text-decoration-color: #00af00\">2</span>)                   │             <span style=\"color: #00af00; text-decoration-color: #00af00\">130</span> │\n",
              "└──────────────────────────────────────┴─────────────────────────────┴─────────────────┘\n",
              "</pre>\n"
            ]
          },
          "metadata": {}
        },
        {
          "output_type": "display_data",
          "data": {
            "text/plain": [
              "\u001b[1m Total params: \u001b[0m\u001b[38;5;34m2,113,784\u001b[0m (8.06 MB)\n"
            ],
            "text/html": [
              "<pre style=\"white-space:pre;overflow-x:auto;line-height:normal;font-family:Menlo,'DejaVu Sans Mono',consolas,'Courier New',monospace\"><span style=\"font-weight: bold\"> Total params: </span><span style=\"color: #00af00; text-decoration-color: #00af00\">2,113,784</span> (8.06 MB)\n",
              "</pre>\n"
            ]
          },
          "metadata": {}
        },
        {
          "output_type": "display_data",
          "data": {
            "text/plain": [
              "\u001b[1m Trainable params: \u001b[0m\u001b[38;5;34m704,594\u001b[0m (2.69 MB)\n"
            ],
            "text/html": [
              "<pre style=\"white-space:pre;overflow-x:auto;line-height:normal;font-family:Menlo,'DejaVu Sans Mono',consolas,'Courier New',monospace\"><span style=\"font-weight: bold\"> Trainable params: </span><span style=\"color: #00af00; text-decoration-color: #00af00\">704,594</span> (2.69 MB)\n",
              "</pre>\n"
            ]
          },
          "metadata": {}
        },
        {
          "output_type": "display_data",
          "data": {
            "text/plain": [
              "\u001b[1m Non-trainable params: \u001b[0m\u001b[38;5;34m0\u001b[0m (0.00 B)\n"
            ],
            "text/html": [
              "<pre style=\"white-space:pre;overflow-x:auto;line-height:normal;font-family:Menlo,'DejaVu Sans Mono',consolas,'Courier New',monospace\"><span style=\"font-weight: bold\"> Non-trainable params: </span><span style=\"color: #00af00; text-decoration-color: #00af00\">0</span> (0.00 B)\n",
              "</pre>\n"
            ]
          },
          "metadata": {}
        },
        {
          "output_type": "display_data",
          "data": {
            "text/plain": [
              "\u001b[1m Optimizer params: \u001b[0m\u001b[38;5;34m1,409,190\u001b[0m (5.38 MB)\n"
            ],
            "text/html": [
              "<pre style=\"white-space:pre;overflow-x:auto;line-height:normal;font-family:Menlo,'DejaVu Sans Mono',consolas,'Courier New',monospace\"><span style=\"font-weight: bold\"> Optimizer params: </span><span style=\"color: #00af00; text-decoration-color: #00af00\">1,409,190</span> (5.38 MB)\n",
              "</pre>\n"
            ]
          },
          "metadata": {}
        },
        {
          "output_type": "stream",
          "name": "stdout",
          "text": [
            "None\n",
            "Before SMOTE:  Counter({0: 3883, 1: 567})\n",
            "After SMOTE:  Counter({0: 3883, 1: 3883})\n",
            "Accuracy of level #1 =  0.9811320754716981\n",
            "              precision    recall  f1-score   support\n",
            "\n",
            "           0     0.9810    0.9968    0.9888       933\n",
            "           1     0.9818    0.9000    0.9391       180\n",
            "\n",
            "    accuracy                         0.9811      1113\n",
            "   macro avg     0.9814    0.9484    0.9640      1113\n",
            "weighted avg     0.9811    0.9811    0.9808      1113\n",
            "\n",
            "\u001b[1m243/243\u001b[0m \u001b[32m━━━━━━━━━━━━━━━━━━━━\u001b[0m\u001b[37m\u001b[0m \u001b[1m0s\u001b[0m 1ms/step\n",
            "\u001b[1m35/35\u001b[0m \u001b[32m━━━━━━━━━━━━━━━━━━━━\u001b[0m\u001b[37m\u001b[0m \u001b[1m0s\u001b[0m 1ms/step \n",
            "Train Output shape: (7766, 64)\n",
            "Test Output shape: (1113, 64)\n",
            "\n"
          ]
        },
        {
          "output_type": "display_data",
          "data": {
            "text/plain": [
              "\u001b[1mModel: \"functional_2\"\u001b[0m\n"
            ],
            "text/html": [
              "<pre style=\"white-space:pre;overflow-x:auto;line-height:normal;font-family:Menlo,'DejaVu Sans Mono',consolas,'Courier New',monospace\"><span style=\"font-weight: bold\">Model: \"functional_2\"</span>\n",
              "</pre>\n"
            ]
          },
          "metadata": {}
        },
        {
          "output_type": "display_data",
          "data": {
            "text/plain": [
              "┏━━━━━━━━━━━━━━━━━━━━━━━━━━━━━━━━━━━━━━┳━━━━━━━━━━━━━━━━━━━━━━━━━━━━━┳━━━━━━━━━━━━━━━━━┓\n",
              "┃\u001b[1m \u001b[0m\u001b[1mLayer (type)                        \u001b[0m\u001b[1m \u001b[0m┃\u001b[1m \u001b[0m\u001b[1mOutput Shape               \u001b[0m\u001b[1m \u001b[0m┃\u001b[1m \u001b[0m\u001b[1m        Param #\u001b[0m\u001b[1m \u001b[0m┃\n",
              "┡━━━━━━━━━━━━━━━━━━━━━━━━━━━━━━━━━━━━━━╇━━━━━━━━━━━━━━━━━━━━━━━━━━━━━╇━━━━━━━━━━━━━━━━━┩\n",
              "│ input_layer_1 (\u001b[38;5;33mInputLayer\u001b[0m)           │ (\u001b[38;5;45mNone\u001b[0m, \u001b[38;5;34m64\u001b[0m, \u001b[38;5;34m1\u001b[0m)               │               \u001b[38;5;34m0\u001b[0m │\n",
              "├──────────────────────────────────────┼─────────────────────────────┼─────────────────┤\n",
              "│ conv1d_1 (\u001b[38;5;33mConv1D\u001b[0m)                    │ (\u001b[38;5;45mNone\u001b[0m, \u001b[38;5;34m63\u001b[0m, \u001b[38;5;34m64\u001b[0m)              │             \u001b[38;5;34m192\u001b[0m │\n",
              "├──────────────────────────────────────┼─────────────────────────────┼─────────────────┤\n",
              "│ pool_layer2 (\u001b[38;5;33mGlobalMaxPooling1D\u001b[0m)     │ (\u001b[38;5;45mNone\u001b[0m, \u001b[38;5;34m64\u001b[0m)                  │               \u001b[38;5;34m0\u001b[0m │\n",
              "├──────────────────────────────────────┼─────────────────────────────┼─────────────────┤\n",
              "│ dense_1 (\u001b[38;5;33mDense\u001b[0m)                      │ (\u001b[38;5;45mNone\u001b[0m, \u001b[38;5;34m2\u001b[0m)                   │             \u001b[38;5;34m130\u001b[0m │\n",
              "└──────────────────────────────────────┴─────────────────────────────┴─────────────────┘\n"
            ],
            "text/html": [
              "<pre style=\"white-space:pre;overflow-x:auto;line-height:normal;font-family:Menlo,'DejaVu Sans Mono',consolas,'Courier New',monospace\">┏━━━━━━━━━━━━━━━━━━━━━━━━━━━━━━━━━━━━━━┳━━━━━━━━━━━━━━━━━━━━━━━━━━━━━┳━━━━━━━━━━━━━━━━━┓\n",
              "┃<span style=\"font-weight: bold\"> Layer (type)                         </span>┃<span style=\"font-weight: bold\"> Output Shape                </span>┃<span style=\"font-weight: bold\">         Param # </span>┃\n",
              "┡━━━━━━━━━━━━━━━━━━━━━━━━━━━━━━━━━━━━━━╇━━━━━━━━━━━━━━━━━━━━━━━━━━━━━╇━━━━━━━━━━━━━━━━━┩\n",
              "│ input_layer_1 (<span style=\"color: #0087ff; text-decoration-color: #0087ff\">InputLayer</span>)           │ (<span style=\"color: #00d7ff; text-decoration-color: #00d7ff\">None</span>, <span style=\"color: #00af00; text-decoration-color: #00af00\">64</span>, <span style=\"color: #00af00; text-decoration-color: #00af00\">1</span>)               │               <span style=\"color: #00af00; text-decoration-color: #00af00\">0</span> │\n",
              "├──────────────────────────────────────┼─────────────────────────────┼─────────────────┤\n",
              "│ conv1d_1 (<span style=\"color: #0087ff; text-decoration-color: #0087ff\">Conv1D</span>)                    │ (<span style=\"color: #00d7ff; text-decoration-color: #00d7ff\">None</span>, <span style=\"color: #00af00; text-decoration-color: #00af00\">63</span>, <span style=\"color: #00af00; text-decoration-color: #00af00\">64</span>)              │             <span style=\"color: #00af00; text-decoration-color: #00af00\">192</span> │\n",
              "├──────────────────────────────────────┼─────────────────────────────┼─────────────────┤\n",
              "│ pool_layer2 (<span style=\"color: #0087ff; text-decoration-color: #0087ff\">GlobalMaxPooling1D</span>)     │ (<span style=\"color: #00d7ff; text-decoration-color: #00d7ff\">None</span>, <span style=\"color: #00af00; text-decoration-color: #00af00\">64</span>)                  │               <span style=\"color: #00af00; text-decoration-color: #00af00\">0</span> │\n",
              "├──────────────────────────────────────┼─────────────────────────────┼─────────────────┤\n",
              "│ dense_1 (<span style=\"color: #0087ff; text-decoration-color: #0087ff\">Dense</span>)                      │ (<span style=\"color: #00d7ff; text-decoration-color: #00d7ff\">None</span>, <span style=\"color: #00af00; text-decoration-color: #00af00\">2</span>)                   │             <span style=\"color: #00af00; text-decoration-color: #00af00\">130</span> │\n",
              "└──────────────────────────────────────┴─────────────────────────────┴─────────────────┘\n",
              "</pre>\n"
            ]
          },
          "metadata": {}
        },
        {
          "output_type": "display_data",
          "data": {
            "text/plain": [
              "\u001b[1m Total params: \u001b[0m\u001b[38;5;34m968\u001b[0m (3.79 KB)\n"
            ],
            "text/html": [
              "<pre style=\"white-space:pre;overflow-x:auto;line-height:normal;font-family:Menlo,'DejaVu Sans Mono',consolas,'Courier New',monospace\"><span style=\"font-weight: bold\"> Total params: </span><span style=\"color: #00af00; text-decoration-color: #00af00\">968</span> (3.79 KB)\n",
              "</pre>\n"
            ]
          },
          "metadata": {}
        },
        {
          "output_type": "display_data",
          "data": {
            "text/plain": [
              "\u001b[1m Trainable params: \u001b[0m\u001b[38;5;34m322\u001b[0m (1.26 KB)\n"
            ],
            "text/html": [
              "<pre style=\"white-space:pre;overflow-x:auto;line-height:normal;font-family:Menlo,'DejaVu Sans Mono',consolas,'Courier New',monospace\"><span style=\"font-weight: bold\"> Trainable params: </span><span style=\"color: #00af00; text-decoration-color: #00af00\">322</span> (1.26 KB)\n",
              "</pre>\n"
            ]
          },
          "metadata": {}
        },
        {
          "output_type": "display_data",
          "data": {
            "text/plain": [
              "\u001b[1m Non-trainable params: \u001b[0m\u001b[38;5;34m0\u001b[0m (0.00 B)\n"
            ],
            "text/html": [
              "<pre style=\"white-space:pre;overflow-x:auto;line-height:normal;font-family:Menlo,'DejaVu Sans Mono',consolas,'Courier New',monospace\"><span style=\"font-weight: bold\"> Non-trainable params: </span><span style=\"color: #00af00; text-decoration-color: #00af00\">0</span> (0.00 B)\n",
              "</pre>\n"
            ]
          },
          "metadata": {}
        },
        {
          "output_type": "display_data",
          "data": {
            "text/plain": [
              "\u001b[1m Optimizer params: \u001b[0m\u001b[38;5;34m646\u001b[0m (2.53 KB)\n"
            ],
            "text/html": [
              "<pre style=\"white-space:pre;overflow-x:auto;line-height:normal;font-family:Menlo,'DejaVu Sans Mono',consolas,'Courier New',monospace\"><span style=\"font-weight: bold\"> Optimizer params: </span><span style=\"color: #00af00; text-decoration-color: #00af00\">646</span> (2.53 KB)\n",
              "</pre>\n"
            ]
          },
          "metadata": {}
        },
        {
          "output_type": "stream",
          "name": "stdout",
          "text": [
            "None\n",
            "              precision    recall  f1-score   support\n",
            "\n",
            "           0     0.9800    0.9968    0.9883       933\n",
            "           1     0.9817    0.8944    0.9360       180\n",
            "\n",
            "    accuracy                         0.9802      1113\n",
            "   macro avg     0.9808    0.9456    0.9622      1113\n",
            "weighted avg     0.9803    0.9802    0.9799      1113\n",
            "\n",
            "Accuracy of level # 2  =  0.9802336028751123\n",
            "\u001b[1m243/243\u001b[0m \u001b[32m━━━━━━━━━━━━━━━━━━━━\u001b[0m\u001b[37m\u001b[0m \u001b[1m1s\u001b[0m 2ms/step\n",
            "\u001b[1m35/35\u001b[0m \u001b[32m━━━━━━━━━━━━━━━━━━━━\u001b[0m\u001b[37m\u001b[0m \u001b[1m0s\u001b[0m 2ms/step\n",
            "Train Output shape: (7766, 64)\n",
            "Test Output shape: (1113, 64)\n",
            "\n"
          ]
        },
        {
          "output_type": "display_data",
          "data": {
            "text/plain": [
              "\u001b[1mModel: \"functional_4\"\u001b[0m\n"
            ],
            "text/html": [
              "<pre style=\"white-space:pre;overflow-x:auto;line-height:normal;font-family:Menlo,'DejaVu Sans Mono',consolas,'Courier New',monospace\"><span style=\"font-weight: bold\">Model: \"functional_4\"</span>\n",
              "</pre>\n"
            ]
          },
          "metadata": {}
        },
        {
          "output_type": "display_data",
          "data": {
            "text/plain": [
              "┏━━━━━━━━━━━━━━━━━━━━━━━━━━━━━━━━━━━━━━┳━━━━━━━━━━━━━━━━━━━━━━━━━━━━━┳━━━━━━━━━━━━━━━━━┓\n",
              "┃\u001b[1m \u001b[0m\u001b[1mLayer (type)                        \u001b[0m\u001b[1m \u001b[0m┃\u001b[1m \u001b[0m\u001b[1mOutput Shape               \u001b[0m\u001b[1m \u001b[0m┃\u001b[1m \u001b[0m\u001b[1m        Param #\u001b[0m\u001b[1m \u001b[0m┃\n",
              "┡━━━━━━━━━━━━━━━━━━━━━━━━━━━━━━━━━━━━━━╇━━━━━━━━━━━━━━━━━━━━━━━━━━━━━╇━━━━━━━━━━━━━━━━━┩\n",
              "│ input_layer_2 (\u001b[38;5;33mInputLayer\u001b[0m)           │ (\u001b[38;5;45mNone\u001b[0m, \u001b[38;5;34m64\u001b[0m, \u001b[38;5;34m1\u001b[0m)               │               \u001b[38;5;34m0\u001b[0m │\n",
              "├──────────────────────────────────────┼─────────────────────────────┼─────────────────┤\n",
              "│ conv1d_2 (\u001b[38;5;33mConv1D\u001b[0m)                    │ (\u001b[38;5;45mNone\u001b[0m, \u001b[38;5;34m63\u001b[0m, \u001b[38;5;34m64\u001b[0m)              │             \u001b[38;5;34m192\u001b[0m │\n",
              "├──────────────────────────────────────┼─────────────────────────────┼─────────────────┤\n",
              "│ pool_layer3 (\u001b[38;5;33mGlobalMaxPooling1D\u001b[0m)     │ (\u001b[38;5;45mNone\u001b[0m, \u001b[38;5;34m64\u001b[0m)                  │               \u001b[38;5;34m0\u001b[0m │\n",
              "├──────────────────────────────────────┼─────────────────────────────┼─────────────────┤\n",
              "│ dense_2 (\u001b[38;5;33mDense\u001b[0m)                      │ (\u001b[38;5;45mNone\u001b[0m, \u001b[38;5;34m2\u001b[0m)                   │             \u001b[38;5;34m130\u001b[0m │\n",
              "└──────────────────────────────────────┴─────────────────────────────┴─────────────────┘\n"
            ],
            "text/html": [
              "<pre style=\"white-space:pre;overflow-x:auto;line-height:normal;font-family:Menlo,'DejaVu Sans Mono',consolas,'Courier New',monospace\">┏━━━━━━━━━━━━━━━━━━━━━━━━━━━━━━━━━━━━━━┳━━━━━━━━━━━━━━━━━━━━━━━━━━━━━┳━━━━━━━━━━━━━━━━━┓\n",
              "┃<span style=\"font-weight: bold\"> Layer (type)                         </span>┃<span style=\"font-weight: bold\"> Output Shape                </span>┃<span style=\"font-weight: bold\">         Param # </span>┃\n",
              "┡━━━━━━━━━━━━━━━━━━━━━━━━━━━━━━━━━━━━━━╇━━━━━━━━━━━━━━━━━━━━━━━━━━━━━╇━━━━━━━━━━━━━━━━━┩\n",
              "│ input_layer_2 (<span style=\"color: #0087ff; text-decoration-color: #0087ff\">InputLayer</span>)           │ (<span style=\"color: #00d7ff; text-decoration-color: #00d7ff\">None</span>, <span style=\"color: #00af00; text-decoration-color: #00af00\">64</span>, <span style=\"color: #00af00; text-decoration-color: #00af00\">1</span>)               │               <span style=\"color: #00af00; text-decoration-color: #00af00\">0</span> │\n",
              "├──────────────────────────────────────┼─────────────────────────────┼─────────────────┤\n",
              "│ conv1d_2 (<span style=\"color: #0087ff; text-decoration-color: #0087ff\">Conv1D</span>)                    │ (<span style=\"color: #00d7ff; text-decoration-color: #00d7ff\">None</span>, <span style=\"color: #00af00; text-decoration-color: #00af00\">63</span>, <span style=\"color: #00af00; text-decoration-color: #00af00\">64</span>)              │             <span style=\"color: #00af00; text-decoration-color: #00af00\">192</span> │\n",
              "├──────────────────────────────────────┼─────────────────────────────┼─────────────────┤\n",
              "│ pool_layer3 (<span style=\"color: #0087ff; text-decoration-color: #0087ff\">GlobalMaxPooling1D</span>)     │ (<span style=\"color: #00d7ff; text-decoration-color: #00d7ff\">None</span>, <span style=\"color: #00af00; text-decoration-color: #00af00\">64</span>)                  │               <span style=\"color: #00af00; text-decoration-color: #00af00\">0</span> │\n",
              "├──────────────────────────────────────┼─────────────────────────────┼─────────────────┤\n",
              "│ dense_2 (<span style=\"color: #0087ff; text-decoration-color: #0087ff\">Dense</span>)                      │ (<span style=\"color: #00d7ff; text-decoration-color: #00d7ff\">None</span>, <span style=\"color: #00af00; text-decoration-color: #00af00\">2</span>)                   │             <span style=\"color: #00af00; text-decoration-color: #00af00\">130</span> │\n",
              "└──────────────────────────────────────┴─────────────────────────────┴─────────────────┘\n",
              "</pre>\n"
            ]
          },
          "metadata": {}
        },
        {
          "output_type": "display_data",
          "data": {
            "text/plain": [
              "\u001b[1m Total params: \u001b[0m\u001b[38;5;34m968\u001b[0m (3.79 KB)\n"
            ],
            "text/html": [
              "<pre style=\"white-space:pre;overflow-x:auto;line-height:normal;font-family:Menlo,'DejaVu Sans Mono',consolas,'Courier New',monospace\"><span style=\"font-weight: bold\"> Total params: </span><span style=\"color: #00af00; text-decoration-color: #00af00\">968</span> (3.79 KB)\n",
              "</pre>\n"
            ]
          },
          "metadata": {}
        },
        {
          "output_type": "display_data",
          "data": {
            "text/plain": [
              "\u001b[1m Trainable params: \u001b[0m\u001b[38;5;34m322\u001b[0m (1.26 KB)\n"
            ],
            "text/html": [
              "<pre style=\"white-space:pre;overflow-x:auto;line-height:normal;font-family:Menlo,'DejaVu Sans Mono',consolas,'Courier New',monospace\"><span style=\"font-weight: bold\"> Trainable params: </span><span style=\"color: #00af00; text-decoration-color: #00af00\">322</span> (1.26 KB)\n",
              "</pre>\n"
            ]
          },
          "metadata": {}
        },
        {
          "output_type": "display_data",
          "data": {
            "text/plain": [
              "\u001b[1m Non-trainable params: \u001b[0m\u001b[38;5;34m0\u001b[0m (0.00 B)\n"
            ],
            "text/html": [
              "<pre style=\"white-space:pre;overflow-x:auto;line-height:normal;font-family:Menlo,'DejaVu Sans Mono',consolas,'Courier New',monospace\"><span style=\"font-weight: bold\"> Non-trainable params: </span><span style=\"color: #00af00; text-decoration-color: #00af00\">0</span> (0.00 B)\n",
              "</pre>\n"
            ]
          },
          "metadata": {}
        },
        {
          "output_type": "display_data",
          "data": {
            "text/plain": [
              "\u001b[1m Optimizer params: \u001b[0m\u001b[38;5;34m646\u001b[0m (2.53 KB)\n"
            ],
            "text/html": [
              "<pre style=\"white-space:pre;overflow-x:auto;line-height:normal;font-family:Menlo,'DejaVu Sans Mono',consolas,'Courier New',monospace\"><span style=\"font-weight: bold\"> Optimizer params: </span><span style=\"color: #00af00; text-decoration-color: #00af00\">646</span> (2.53 KB)\n",
              "</pre>\n"
            ]
          },
          "metadata": {}
        },
        {
          "output_type": "stream",
          "name": "stdout",
          "text": [
            "None\n",
            "              precision    recall  f1-score   support\n",
            "\n",
            "           0     0.9810    0.9968    0.9888       933\n",
            "           1     0.9818    0.9000    0.9391       180\n",
            "\n",
            "    accuracy                         0.9811      1113\n",
            "   macro avg     0.9814    0.9484    0.9640      1113\n",
            "weighted avg     0.9811    0.9811    0.9808      1113\n",
            "\n",
            "Accuracy of level # 3  =  0.9811320754716981\n",
            "\u001b[1m243/243\u001b[0m \u001b[32m━━━━━━━━━━━━━━━━━━━━\u001b[0m\u001b[37m\u001b[0m \u001b[1m0s\u001b[0m 2ms/step\n",
            "\u001b[1m35/35\u001b[0m \u001b[32m━━━━━━━━━━━━━━━━━━━━\u001b[0m\u001b[37m\u001b[0m \u001b[1m0s\u001b[0m 1ms/step \n",
            "Train Output shape: (7766, 64)\n",
            "Test Output shape: (1113, 64)\n",
            "\n"
          ]
        },
        {
          "output_type": "display_data",
          "data": {
            "text/plain": [
              "\u001b[1mModel: \"functional_6\"\u001b[0m\n"
            ],
            "text/html": [
              "<pre style=\"white-space:pre;overflow-x:auto;line-height:normal;font-family:Menlo,'DejaVu Sans Mono',consolas,'Courier New',monospace\"><span style=\"font-weight: bold\">Model: \"functional_6\"</span>\n",
              "</pre>\n"
            ]
          },
          "metadata": {}
        },
        {
          "output_type": "display_data",
          "data": {
            "text/plain": [
              "┏━━━━━━━━━━━━━━━━━━━━━━━━━━━━━━━━━━━━━━┳━━━━━━━━━━━━━━━━━━━━━━━━━━━━━┳━━━━━━━━━━━━━━━━━┓\n",
              "┃\u001b[1m \u001b[0m\u001b[1mLayer (type)                        \u001b[0m\u001b[1m \u001b[0m┃\u001b[1m \u001b[0m\u001b[1mOutput Shape               \u001b[0m\u001b[1m \u001b[0m┃\u001b[1m \u001b[0m\u001b[1m        Param #\u001b[0m\u001b[1m \u001b[0m┃\n",
              "┡━━━━━━━━━━━━━━━━━━━━━━━━━━━━━━━━━━━━━━╇━━━━━━━━━━━━━━━━━━━━━━━━━━━━━╇━━━━━━━━━━━━━━━━━┩\n",
              "│ input_layer_3 (\u001b[38;5;33mInputLayer\u001b[0m)           │ (\u001b[38;5;45mNone\u001b[0m, \u001b[38;5;34m64\u001b[0m, \u001b[38;5;34m1\u001b[0m)               │               \u001b[38;5;34m0\u001b[0m │\n",
              "├──────────────────────────────────────┼─────────────────────────────┼─────────────────┤\n",
              "│ conv1d_3 (\u001b[38;5;33mConv1D\u001b[0m)                    │ (\u001b[38;5;45mNone\u001b[0m, \u001b[38;5;34m63\u001b[0m, \u001b[38;5;34m64\u001b[0m)              │             \u001b[38;5;34m192\u001b[0m │\n",
              "├──────────────────────────────────────┼─────────────────────────────┼─────────────────┤\n",
              "│ pool_layer4 (\u001b[38;5;33mGlobalMaxPooling1D\u001b[0m)     │ (\u001b[38;5;45mNone\u001b[0m, \u001b[38;5;34m64\u001b[0m)                  │               \u001b[38;5;34m0\u001b[0m │\n",
              "├──────────────────────────────────────┼─────────────────────────────┼─────────────────┤\n",
              "│ dense_3 (\u001b[38;5;33mDense\u001b[0m)                      │ (\u001b[38;5;45mNone\u001b[0m, \u001b[38;5;34m2\u001b[0m)                   │             \u001b[38;5;34m130\u001b[0m │\n",
              "└──────────────────────────────────────┴─────────────────────────────┴─────────────────┘\n"
            ],
            "text/html": [
              "<pre style=\"white-space:pre;overflow-x:auto;line-height:normal;font-family:Menlo,'DejaVu Sans Mono',consolas,'Courier New',monospace\">┏━━━━━━━━━━━━━━━━━━━━━━━━━━━━━━━━━━━━━━┳━━━━━━━━━━━━━━━━━━━━━━━━━━━━━┳━━━━━━━━━━━━━━━━━┓\n",
              "┃<span style=\"font-weight: bold\"> Layer (type)                         </span>┃<span style=\"font-weight: bold\"> Output Shape                </span>┃<span style=\"font-weight: bold\">         Param # </span>┃\n",
              "┡━━━━━━━━━━━━━━━━━━━━━━━━━━━━━━━━━━━━━━╇━━━━━━━━━━━━━━━━━━━━━━━━━━━━━╇━━━━━━━━━━━━━━━━━┩\n",
              "│ input_layer_3 (<span style=\"color: #0087ff; text-decoration-color: #0087ff\">InputLayer</span>)           │ (<span style=\"color: #00d7ff; text-decoration-color: #00d7ff\">None</span>, <span style=\"color: #00af00; text-decoration-color: #00af00\">64</span>, <span style=\"color: #00af00; text-decoration-color: #00af00\">1</span>)               │               <span style=\"color: #00af00; text-decoration-color: #00af00\">0</span> │\n",
              "├──────────────────────────────────────┼─────────────────────────────┼─────────────────┤\n",
              "│ conv1d_3 (<span style=\"color: #0087ff; text-decoration-color: #0087ff\">Conv1D</span>)                    │ (<span style=\"color: #00d7ff; text-decoration-color: #00d7ff\">None</span>, <span style=\"color: #00af00; text-decoration-color: #00af00\">63</span>, <span style=\"color: #00af00; text-decoration-color: #00af00\">64</span>)              │             <span style=\"color: #00af00; text-decoration-color: #00af00\">192</span> │\n",
              "├──────────────────────────────────────┼─────────────────────────────┼─────────────────┤\n",
              "│ pool_layer4 (<span style=\"color: #0087ff; text-decoration-color: #0087ff\">GlobalMaxPooling1D</span>)     │ (<span style=\"color: #00d7ff; text-decoration-color: #00d7ff\">None</span>, <span style=\"color: #00af00; text-decoration-color: #00af00\">64</span>)                  │               <span style=\"color: #00af00; text-decoration-color: #00af00\">0</span> │\n",
              "├──────────────────────────────────────┼─────────────────────────────┼─────────────────┤\n",
              "│ dense_3 (<span style=\"color: #0087ff; text-decoration-color: #0087ff\">Dense</span>)                      │ (<span style=\"color: #00d7ff; text-decoration-color: #00d7ff\">None</span>, <span style=\"color: #00af00; text-decoration-color: #00af00\">2</span>)                   │             <span style=\"color: #00af00; text-decoration-color: #00af00\">130</span> │\n",
              "└──────────────────────────────────────┴─────────────────────────────┴─────────────────┘\n",
              "</pre>\n"
            ]
          },
          "metadata": {}
        },
        {
          "output_type": "display_data",
          "data": {
            "text/plain": [
              "\u001b[1m Total params: \u001b[0m\u001b[38;5;34m968\u001b[0m (3.79 KB)\n"
            ],
            "text/html": [
              "<pre style=\"white-space:pre;overflow-x:auto;line-height:normal;font-family:Menlo,'DejaVu Sans Mono',consolas,'Courier New',monospace\"><span style=\"font-weight: bold\"> Total params: </span><span style=\"color: #00af00; text-decoration-color: #00af00\">968</span> (3.79 KB)\n",
              "</pre>\n"
            ]
          },
          "metadata": {}
        },
        {
          "output_type": "display_data",
          "data": {
            "text/plain": [
              "\u001b[1m Trainable params: \u001b[0m\u001b[38;5;34m322\u001b[0m (1.26 KB)\n"
            ],
            "text/html": [
              "<pre style=\"white-space:pre;overflow-x:auto;line-height:normal;font-family:Menlo,'DejaVu Sans Mono',consolas,'Courier New',monospace\"><span style=\"font-weight: bold\"> Trainable params: </span><span style=\"color: #00af00; text-decoration-color: #00af00\">322</span> (1.26 KB)\n",
              "</pre>\n"
            ]
          },
          "metadata": {}
        },
        {
          "output_type": "display_data",
          "data": {
            "text/plain": [
              "\u001b[1m Non-trainable params: \u001b[0m\u001b[38;5;34m0\u001b[0m (0.00 B)\n"
            ],
            "text/html": [
              "<pre style=\"white-space:pre;overflow-x:auto;line-height:normal;font-family:Menlo,'DejaVu Sans Mono',consolas,'Courier New',monospace\"><span style=\"font-weight: bold\"> Non-trainable params: </span><span style=\"color: #00af00; text-decoration-color: #00af00\">0</span> (0.00 B)\n",
              "</pre>\n"
            ]
          },
          "metadata": {}
        },
        {
          "output_type": "display_data",
          "data": {
            "text/plain": [
              "\u001b[1m Optimizer params: \u001b[0m\u001b[38;5;34m646\u001b[0m (2.53 KB)\n"
            ],
            "text/html": [
              "<pre style=\"white-space:pre;overflow-x:auto;line-height:normal;font-family:Menlo,'DejaVu Sans Mono',consolas,'Courier New',monospace\"><span style=\"font-weight: bold\"> Optimizer params: </span><span style=\"color: #00af00; text-decoration-color: #00af00\">646</span> (2.53 KB)\n",
              "</pre>\n"
            ]
          },
          "metadata": {}
        },
        {
          "output_type": "stream",
          "name": "stdout",
          "text": [
            "None\n",
            "              precision    recall  f1-score   support\n",
            "\n",
            "           0     0.9800    0.9968    0.9883       933\n",
            "           1     0.9817    0.8944    0.9360       180\n",
            "\n",
            "    accuracy                         0.9802      1113\n",
            "   macro avg     0.9808    0.9456    0.9622      1113\n",
            "weighted avg     0.9803    0.9802    0.9799      1113\n",
            "\n",
            "Accuracy of level # 4  =  0.9802336028751123\n",
            "\u001b[1m243/243\u001b[0m \u001b[32m━━━━━━━━━━━━━━━━━━━━\u001b[0m\u001b[37m\u001b[0m \u001b[1m1s\u001b[0m 2ms/step\n",
            "\u001b[1m35/35\u001b[0m \u001b[32m━━━━━━━━━━━━━━━━━━━━\u001b[0m\u001b[37m\u001b[0m \u001b[1m0s\u001b[0m 2ms/step\n",
            "Train Output shape: (7766, 64)\n",
            "Test Output shape: (1113, 64)\n",
            "\n"
          ]
        },
        {
          "output_type": "display_data",
          "data": {
            "text/plain": [
              "\u001b[1mModel: \"functional_8\"\u001b[0m\n"
            ],
            "text/html": [
              "<pre style=\"white-space:pre;overflow-x:auto;line-height:normal;font-family:Menlo,'DejaVu Sans Mono',consolas,'Courier New',monospace\"><span style=\"font-weight: bold\">Model: \"functional_8\"</span>\n",
              "</pre>\n"
            ]
          },
          "metadata": {}
        },
        {
          "output_type": "display_data",
          "data": {
            "text/plain": [
              "┏━━━━━━━━━━━━━━━━━━━━━━━━━━━━━━━━━━━━━━┳━━━━━━━━━━━━━━━━━━━━━━━━━━━━━┳━━━━━━━━━━━━━━━━━┓\n",
              "┃\u001b[1m \u001b[0m\u001b[1mLayer (type)                        \u001b[0m\u001b[1m \u001b[0m┃\u001b[1m \u001b[0m\u001b[1mOutput Shape               \u001b[0m\u001b[1m \u001b[0m┃\u001b[1m \u001b[0m\u001b[1m        Param #\u001b[0m\u001b[1m \u001b[0m┃\n",
              "┡━━━━━━━━━━━━━━━━━━━━━━━━━━━━━━━━━━━━━━╇━━━━━━━━━━━━━━━━━━━━━━━━━━━━━╇━━━━━━━━━━━━━━━━━┩\n",
              "│ input_layer_4 (\u001b[38;5;33mInputLayer\u001b[0m)           │ (\u001b[38;5;45mNone\u001b[0m, \u001b[38;5;34m64\u001b[0m, \u001b[38;5;34m1\u001b[0m)               │               \u001b[38;5;34m0\u001b[0m │\n",
              "├──────────────────────────────────────┼─────────────────────────────┼─────────────────┤\n",
              "│ conv1d_4 (\u001b[38;5;33mConv1D\u001b[0m)                    │ (\u001b[38;5;45mNone\u001b[0m, \u001b[38;5;34m63\u001b[0m, \u001b[38;5;34m64\u001b[0m)              │             \u001b[38;5;34m192\u001b[0m │\n",
              "├──────────────────────────────────────┼─────────────────────────────┼─────────────────┤\n",
              "│ pool_layer5 (\u001b[38;5;33mGlobalMaxPooling1D\u001b[0m)     │ (\u001b[38;5;45mNone\u001b[0m, \u001b[38;5;34m64\u001b[0m)                  │               \u001b[38;5;34m0\u001b[0m │\n",
              "├──────────────────────────────────────┼─────────────────────────────┼─────────────────┤\n",
              "│ dense_4 (\u001b[38;5;33mDense\u001b[0m)                      │ (\u001b[38;5;45mNone\u001b[0m, \u001b[38;5;34m2\u001b[0m)                   │             \u001b[38;5;34m130\u001b[0m │\n",
              "└──────────────────────────────────────┴─────────────────────────────┴─────────────────┘\n"
            ],
            "text/html": [
              "<pre style=\"white-space:pre;overflow-x:auto;line-height:normal;font-family:Menlo,'DejaVu Sans Mono',consolas,'Courier New',monospace\">┏━━━━━━━━━━━━━━━━━━━━━━━━━━━━━━━━━━━━━━┳━━━━━━━━━━━━━━━━━━━━━━━━━━━━━┳━━━━━━━━━━━━━━━━━┓\n",
              "┃<span style=\"font-weight: bold\"> Layer (type)                         </span>┃<span style=\"font-weight: bold\"> Output Shape                </span>┃<span style=\"font-weight: bold\">         Param # </span>┃\n",
              "┡━━━━━━━━━━━━━━━━━━━━━━━━━━━━━━━━━━━━━━╇━━━━━━━━━━━━━━━━━━━━━━━━━━━━━╇━━━━━━━━━━━━━━━━━┩\n",
              "│ input_layer_4 (<span style=\"color: #0087ff; text-decoration-color: #0087ff\">InputLayer</span>)           │ (<span style=\"color: #00d7ff; text-decoration-color: #00d7ff\">None</span>, <span style=\"color: #00af00; text-decoration-color: #00af00\">64</span>, <span style=\"color: #00af00; text-decoration-color: #00af00\">1</span>)               │               <span style=\"color: #00af00; text-decoration-color: #00af00\">0</span> │\n",
              "├──────────────────────────────────────┼─────────────────────────────┼─────────────────┤\n",
              "│ conv1d_4 (<span style=\"color: #0087ff; text-decoration-color: #0087ff\">Conv1D</span>)                    │ (<span style=\"color: #00d7ff; text-decoration-color: #00d7ff\">None</span>, <span style=\"color: #00af00; text-decoration-color: #00af00\">63</span>, <span style=\"color: #00af00; text-decoration-color: #00af00\">64</span>)              │             <span style=\"color: #00af00; text-decoration-color: #00af00\">192</span> │\n",
              "├──────────────────────────────────────┼─────────────────────────────┼─────────────────┤\n",
              "│ pool_layer5 (<span style=\"color: #0087ff; text-decoration-color: #0087ff\">GlobalMaxPooling1D</span>)     │ (<span style=\"color: #00d7ff; text-decoration-color: #00d7ff\">None</span>, <span style=\"color: #00af00; text-decoration-color: #00af00\">64</span>)                  │               <span style=\"color: #00af00; text-decoration-color: #00af00\">0</span> │\n",
              "├──────────────────────────────────────┼─────────────────────────────┼─────────────────┤\n",
              "│ dense_4 (<span style=\"color: #0087ff; text-decoration-color: #0087ff\">Dense</span>)                      │ (<span style=\"color: #00d7ff; text-decoration-color: #00d7ff\">None</span>, <span style=\"color: #00af00; text-decoration-color: #00af00\">2</span>)                   │             <span style=\"color: #00af00; text-decoration-color: #00af00\">130</span> │\n",
              "└──────────────────────────────────────┴─────────────────────────────┴─────────────────┘\n",
              "</pre>\n"
            ]
          },
          "metadata": {}
        },
        {
          "output_type": "display_data",
          "data": {
            "text/plain": [
              "\u001b[1m Total params: \u001b[0m\u001b[38;5;34m968\u001b[0m (3.79 KB)\n"
            ],
            "text/html": [
              "<pre style=\"white-space:pre;overflow-x:auto;line-height:normal;font-family:Menlo,'DejaVu Sans Mono',consolas,'Courier New',monospace\"><span style=\"font-weight: bold\"> Total params: </span><span style=\"color: #00af00; text-decoration-color: #00af00\">968</span> (3.79 KB)\n",
              "</pre>\n"
            ]
          },
          "metadata": {}
        },
        {
          "output_type": "display_data",
          "data": {
            "text/plain": [
              "\u001b[1m Trainable params: \u001b[0m\u001b[38;5;34m322\u001b[0m (1.26 KB)\n"
            ],
            "text/html": [
              "<pre style=\"white-space:pre;overflow-x:auto;line-height:normal;font-family:Menlo,'DejaVu Sans Mono',consolas,'Courier New',monospace\"><span style=\"font-weight: bold\"> Trainable params: </span><span style=\"color: #00af00; text-decoration-color: #00af00\">322</span> (1.26 KB)\n",
              "</pre>\n"
            ]
          },
          "metadata": {}
        },
        {
          "output_type": "display_data",
          "data": {
            "text/plain": [
              "\u001b[1m Non-trainable params: \u001b[0m\u001b[38;5;34m0\u001b[0m (0.00 B)\n"
            ],
            "text/html": [
              "<pre style=\"white-space:pre;overflow-x:auto;line-height:normal;font-family:Menlo,'DejaVu Sans Mono',consolas,'Courier New',monospace\"><span style=\"font-weight: bold\"> Non-trainable params: </span><span style=\"color: #00af00; text-decoration-color: #00af00\">0</span> (0.00 B)\n",
              "</pre>\n"
            ]
          },
          "metadata": {}
        },
        {
          "output_type": "display_data",
          "data": {
            "text/plain": [
              "\u001b[1m Optimizer params: \u001b[0m\u001b[38;5;34m646\u001b[0m (2.53 KB)\n"
            ],
            "text/html": [
              "<pre style=\"white-space:pre;overflow-x:auto;line-height:normal;font-family:Menlo,'DejaVu Sans Mono',consolas,'Courier New',monospace\"><span style=\"font-weight: bold\"> Optimizer params: </span><span style=\"color: #00af00; text-decoration-color: #00af00\">646</span> (2.53 KB)\n",
              "</pre>\n"
            ]
          },
          "metadata": {}
        },
        {
          "output_type": "stream",
          "name": "stdout",
          "text": [
            "None\n",
            "              precision    recall  f1-score   support\n",
            "\n",
            "           0     0.9800    0.9968    0.9883       933\n",
            "           1     0.9817    0.8944    0.9360       180\n",
            "\n",
            "    accuracy                         0.9802      1113\n",
            "   macro avg     0.9808    0.9456    0.9622      1113\n",
            "weighted avg     0.9803    0.9802    0.9799      1113\n",
            "\n",
            "Accuracy of level # 5  =  0.9802336028751123\n",
            "\u001b[1m243/243\u001b[0m \u001b[32m━━━━━━━━━━━━━━━━━━━━\u001b[0m\u001b[37m\u001b[0m \u001b[1m0s\u001b[0m 2ms/step\n",
            "\u001b[1m35/35\u001b[0m \u001b[32m━━━━━━━━━━━━━━━━━━━━\u001b[0m\u001b[37m\u001b[0m \u001b[1m0s\u001b[0m 1ms/step \n",
            "Train Output shape: (7766, 64)\n",
            "Test Output shape: (1113, 64)\n",
            "\n"
          ]
        },
        {
          "output_type": "display_data",
          "data": {
            "text/plain": [
              "\u001b[1mModel: \"functional_10\"\u001b[0m\n"
            ],
            "text/html": [
              "<pre style=\"white-space:pre;overflow-x:auto;line-height:normal;font-family:Menlo,'DejaVu Sans Mono',consolas,'Courier New',monospace\"><span style=\"font-weight: bold\">Model: \"functional_10\"</span>\n",
              "</pre>\n"
            ]
          },
          "metadata": {}
        },
        {
          "output_type": "display_data",
          "data": {
            "text/plain": [
              "┏━━━━━━━━━━━━━━━━━━━━━━━━━━━━━━━━━━━━━━┳━━━━━━━━━━━━━━━━━━━━━━━━━━━━━┳━━━━━━━━━━━━━━━━━┓\n",
              "┃\u001b[1m \u001b[0m\u001b[1mLayer (type)                        \u001b[0m\u001b[1m \u001b[0m┃\u001b[1m \u001b[0m\u001b[1mOutput Shape               \u001b[0m\u001b[1m \u001b[0m┃\u001b[1m \u001b[0m\u001b[1m        Param #\u001b[0m\u001b[1m \u001b[0m┃\n",
              "┡━━━━━━━━━━━━━━━━━━━━━━━━━━━━━━━━━━━━━━╇━━━━━━━━━━━━━━━━━━━━━━━━━━━━━╇━━━━━━━━━━━━━━━━━┩\n",
              "│ input_layer_5 (\u001b[38;5;33mInputLayer\u001b[0m)           │ (\u001b[38;5;45mNone\u001b[0m, \u001b[38;5;34m64\u001b[0m, \u001b[38;5;34m1\u001b[0m)               │               \u001b[38;5;34m0\u001b[0m │\n",
              "├──────────────────────────────────────┼─────────────────────────────┼─────────────────┤\n",
              "│ conv1d_5 (\u001b[38;5;33mConv1D\u001b[0m)                    │ (\u001b[38;5;45mNone\u001b[0m, \u001b[38;5;34m63\u001b[0m, \u001b[38;5;34m64\u001b[0m)              │             \u001b[38;5;34m192\u001b[0m │\n",
              "├──────────────────────────────────────┼─────────────────────────────┼─────────────────┤\n",
              "│ pool_layer6 (\u001b[38;5;33mGlobalMaxPooling1D\u001b[0m)     │ (\u001b[38;5;45mNone\u001b[0m, \u001b[38;5;34m64\u001b[0m)                  │               \u001b[38;5;34m0\u001b[0m │\n",
              "├──────────────────────────────────────┼─────────────────────────────┼─────────────────┤\n",
              "│ dense_5 (\u001b[38;5;33mDense\u001b[0m)                      │ (\u001b[38;5;45mNone\u001b[0m, \u001b[38;5;34m2\u001b[0m)                   │             \u001b[38;5;34m130\u001b[0m │\n",
              "└──────────────────────────────────────┴─────────────────────────────┴─────────────────┘\n"
            ],
            "text/html": [
              "<pre style=\"white-space:pre;overflow-x:auto;line-height:normal;font-family:Menlo,'DejaVu Sans Mono',consolas,'Courier New',monospace\">┏━━━━━━━━━━━━━━━━━━━━━━━━━━━━━━━━━━━━━━┳━━━━━━━━━━━━━━━━━━━━━━━━━━━━━┳━━━━━━━━━━━━━━━━━┓\n",
              "┃<span style=\"font-weight: bold\"> Layer (type)                         </span>┃<span style=\"font-weight: bold\"> Output Shape                </span>┃<span style=\"font-weight: bold\">         Param # </span>┃\n",
              "┡━━━━━━━━━━━━━━━━━━━━━━━━━━━━━━━━━━━━━━╇━━━━━━━━━━━━━━━━━━━━━━━━━━━━━╇━━━━━━━━━━━━━━━━━┩\n",
              "│ input_layer_5 (<span style=\"color: #0087ff; text-decoration-color: #0087ff\">InputLayer</span>)           │ (<span style=\"color: #00d7ff; text-decoration-color: #00d7ff\">None</span>, <span style=\"color: #00af00; text-decoration-color: #00af00\">64</span>, <span style=\"color: #00af00; text-decoration-color: #00af00\">1</span>)               │               <span style=\"color: #00af00; text-decoration-color: #00af00\">0</span> │\n",
              "├──────────────────────────────────────┼─────────────────────────────┼─────────────────┤\n",
              "│ conv1d_5 (<span style=\"color: #0087ff; text-decoration-color: #0087ff\">Conv1D</span>)                    │ (<span style=\"color: #00d7ff; text-decoration-color: #00d7ff\">None</span>, <span style=\"color: #00af00; text-decoration-color: #00af00\">63</span>, <span style=\"color: #00af00; text-decoration-color: #00af00\">64</span>)              │             <span style=\"color: #00af00; text-decoration-color: #00af00\">192</span> │\n",
              "├──────────────────────────────────────┼─────────────────────────────┼─────────────────┤\n",
              "│ pool_layer6 (<span style=\"color: #0087ff; text-decoration-color: #0087ff\">GlobalMaxPooling1D</span>)     │ (<span style=\"color: #00d7ff; text-decoration-color: #00d7ff\">None</span>, <span style=\"color: #00af00; text-decoration-color: #00af00\">64</span>)                  │               <span style=\"color: #00af00; text-decoration-color: #00af00\">0</span> │\n",
              "├──────────────────────────────────────┼─────────────────────────────┼─────────────────┤\n",
              "│ dense_5 (<span style=\"color: #0087ff; text-decoration-color: #0087ff\">Dense</span>)                      │ (<span style=\"color: #00d7ff; text-decoration-color: #00d7ff\">None</span>, <span style=\"color: #00af00; text-decoration-color: #00af00\">2</span>)                   │             <span style=\"color: #00af00; text-decoration-color: #00af00\">130</span> │\n",
              "└──────────────────────────────────────┴─────────────────────────────┴─────────────────┘\n",
              "</pre>\n"
            ]
          },
          "metadata": {}
        },
        {
          "output_type": "display_data",
          "data": {
            "text/plain": [
              "\u001b[1m Total params: \u001b[0m\u001b[38;5;34m968\u001b[0m (3.79 KB)\n"
            ],
            "text/html": [
              "<pre style=\"white-space:pre;overflow-x:auto;line-height:normal;font-family:Menlo,'DejaVu Sans Mono',consolas,'Courier New',monospace\"><span style=\"font-weight: bold\"> Total params: </span><span style=\"color: #00af00; text-decoration-color: #00af00\">968</span> (3.79 KB)\n",
              "</pre>\n"
            ]
          },
          "metadata": {}
        },
        {
          "output_type": "display_data",
          "data": {
            "text/plain": [
              "\u001b[1m Trainable params: \u001b[0m\u001b[38;5;34m322\u001b[0m (1.26 KB)\n"
            ],
            "text/html": [
              "<pre style=\"white-space:pre;overflow-x:auto;line-height:normal;font-family:Menlo,'DejaVu Sans Mono',consolas,'Courier New',monospace\"><span style=\"font-weight: bold\"> Trainable params: </span><span style=\"color: #00af00; text-decoration-color: #00af00\">322</span> (1.26 KB)\n",
              "</pre>\n"
            ]
          },
          "metadata": {}
        },
        {
          "output_type": "display_data",
          "data": {
            "text/plain": [
              "\u001b[1m Non-trainable params: \u001b[0m\u001b[38;5;34m0\u001b[0m (0.00 B)\n"
            ],
            "text/html": [
              "<pre style=\"white-space:pre;overflow-x:auto;line-height:normal;font-family:Menlo,'DejaVu Sans Mono',consolas,'Courier New',monospace\"><span style=\"font-weight: bold\"> Non-trainable params: </span><span style=\"color: #00af00; text-decoration-color: #00af00\">0</span> (0.00 B)\n",
              "</pre>\n"
            ]
          },
          "metadata": {}
        },
        {
          "output_type": "display_data",
          "data": {
            "text/plain": [
              "\u001b[1m Optimizer params: \u001b[0m\u001b[38;5;34m646\u001b[0m (2.53 KB)\n"
            ],
            "text/html": [
              "<pre style=\"white-space:pre;overflow-x:auto;line-height:normal;font-family:Menlo,'DejaVu Sans Mono',consolas,'Courier New',monospace\"><span style=\"font-weight: bold\"> Optimizer params: </span><span style=\"color: #00af00; text-decoration-color: #00af00\">646</span> (2.53 KB)\n",
              "</pre>\n"
            ]
          },
          "metadata": {}
        },
        {
          "output_type": "stream",
          "name": "stdout",
          "text": [
            "None\n",
            "              precision    recall  f1-score   support\n",
            "\n",
            "           0     0.9800    0.9968    0.9883       933\n",
            "           1     0.9817    0.8944    0.9360       180\n",
            "\n",
            "    accuracy                         0.9802      1113\n",
            "   macro avg     0.9808    0.9456    0.9622      1113\n",
            "weighted avg     0.9803    0.9802    0.9799      1113\n",
            "\n",
            "Accuracy of level # 6  =  0.9802336028751123\n",
            "Total number of levels =  6\n",
            "\n",
            "Runtime of DCF =  99.45842909812927\n",
            "\n",
            "DCF's Final accuracy =  0.9811320754716981  at level # 1 \n",
            "\n",
            "[[930   3]\n",
            " [ 18 162]]\n",
            "              precision    recall  f1-score   support\n",
            "\n",
            "         Ham     0.9810    0.9968    0.9888       933\n",
            "        Spam     0.9818    0.9000    0.9391       180\n",
            "\n",
            "    accuracy                         0.9811      1113\n",
            "   macro avg     0.9814    0.9484    0.9640      1113\n",
            "weighted avg     0.9811    0.9811    0.9808      1113\n",
            "\n"
          ]
        }
      ],
      "source": [
        "df = load_data(\"/content/processed_spam.csv\")\n",
        "\n",
        "data = df.drop([\"Label\"], axis=1)\n",
        "targets = df[\"Label\"]\n",
        "\n",
        "# Split data\n",
        "X_train, X_test, y_train, y_test = train_test_split(\n",
        "    data, targets, test_size=0.20, random_state=0\n",
        ")\n",
        "\n",
        "docs_X_train = X_train[\"ProcessedMessage\"]\n",
        "docs_X_test = X_test[\"ProcessedMessage\"]\n",
        "max_sequence_length = get_max_input_length(docs_X_train)\n",
        "padded_docs_train, padded_docs_test, tokenizer = encode_text(docs_X_train, docs_X_test)\n",
        "vocab_size = len(tokenizer.word_index) + 1\n",
        "embedding_dim = 100\n",
        "# Retrieve GloVe word embeddings\n",
        "embedding_matrix = create_embedding_matrix(tokenizer, embedding_dim)\n",
        "\n",
        "params = {\"filters\": 64, \"kernel_size\": 2, \"units\": 64, \"epochs\": 10}\n",
        "\n",
        "class_weights = None\n",
        "\n",
        "print(\"\\n*******************************Run DCF*******************************\\n\")\n",
        "DCF_fpr, DCF_tpr, DCF_auc = DCF_model(\n",
        "    padded_docs_train,\n",
        "    padded_docs_test,\n",
        "    y_train,\n",
        "    y_test,\n",
        "    params=params,\n",
        "    class_weights=class_weights,\n",
        "    vocab_size=vocab_size,\n",
        "    max_sequence_length=max_sequence_length,\n",
        "    embedding_matrix=embedding_matrix,\n",
        "    embedding_dim=embedding_dim,\n",
        ")\n",
        "\n",
        "# print(\"\\n**************************Run DL classifiers*************************\\n\")\n",
        "# docs_X_train = X_train[\"ProcessedMessage\"]\n",
        "# docs_X_test = X_test[\"ProcessedMessage\"]\n",
        "# docs_X_train, docs_y_train = balance_data(docs_X_train, y_train, input_type=\"text\")\n",
        "\n",
        "# max_sequence_length = get_max_input_length(docs_X_train)\n",
        "# padded_docs_train, padded_docs_test, tokenizer = encode_text(docs_X_train, docs_X_test)\n",
        "# vocab_size = len(tokenizer.word_index) + 1\n",
        "# embedding_dim = 100\n",
        "# # Retrieve GloVe word embeddings\n",
        "# embedding_matrix = create_embedding_matrix(tokenizer, embedding_dim)\n",
        "\n",
        "# DL_models(\n",
        "#     DCF_fpr,\n",
        "#     DCF_tpr,\n",
        "#     DCF_auc,\n",
        "#     padded_docs_train,\n",
        "#     padded_docs_test,\n",
        "#     docs_y_train,\n",
        "#     y_test,\n",
        "#     params=params,\n",
        "#     class_weights=class_weights,\n",
        "#     vocab_size=vocab_size,\n",
        "#     max_sequence_length=max_sequence_length,\n",
        "#     embedding_matrix=embedding_matrix,\n",
        "#     embedding_dim=embedding_dim,\n",
        "# )\n",
        "\n",
        "# print(\"\\n**************************Run ML classifiers*************************\\n\")\n",
        "# feature_names = [\n",
        "#     \"characters_count\",\n",
        "#     \"words_count\",\n",
        "#     \"readability\",\n",
        "#     \"misspelled_count\",\n",
        "#     \"emails_count\",\n",
        "#     \"phones_count\",\n",
        "#     \"is_currency_found\",\n",
        "#     \"ip_count\",\n",
        "#     \"urls_count\",\n",
        "#     \"has_blacklist_url\",\n",
        "# ]\n",
        "# features_train = X_train[feature_names]\n",
        "# features_test = X_test[feature_names]\n",
        "\n",
        "# features_train, y_train = balance_data(features_train, y_train)\n",
        "\n",
        "# ML_models(\n",
        "#     DCF_fpr,\n",
        "#     DCF_tpr,\n",
        "#     DCF_auc,\n",
        "#     features_train,\n",
        "#     features_test,\n",
        "#     y_train,\n",
        "#     y_test,\n",
        "#     class_weights=class_weights,\n",
        "# )"
      ]
    }
  ],
  "metadata": {
    "colab": {
      "provenance": []
    },
    "kernelspec": {
      "display_name": "Python 3",
      "name": "python3"
    },
    "language_info": {
      "name": "python",
      "version": "3.9.18"
    }
  },
  "nbformat": 4,
  "nbformat_minor": 0
}